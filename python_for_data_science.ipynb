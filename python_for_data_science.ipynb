{
  "nbformat": 4,
  "nbformat_minor": 0,
  "metadata": {
    "colab": {
      "name": "python-for-data-science.ipynb",
      "provenance": [],
      "collapsed_sections": [],
      "authorship_tag": "ABX9TyM9DLtMm4vrH7einI8OhWoD",
      "include_colab_link": true
    },
    "kernelspec": {
      "display_name": "Python 3",
      "name": "python3"
    },
    "language_info": {
      "name": "python"
    }
  },
  "cells": [
    {
      "cell_type": "markdown",
      "metadata": {
        "id": "view-in-github",
        "colab_type": "text"
      },
      "source": [
        "<a href=\"https://colab.research.google.com/github/JyotiGupta634/Pytho_For_Data_Science/blob/main/python_for_data_science.ipynb\" target=\"_parent\"><img src=\"https://colab.research.google.com/assets/colab-badge.svg\" alt=\"Open In Colab\"/></a>"
      ]
    },
    {
      "cell_type": "markdown",
      "metadata": {
        "id": "93t1eBAGNkQ3"
      },
      "source": [
        "# **Python For Data Science**\n",
        "By: Jyoti Gupta<br>\n",
        "Welcome to Python notes\n",
        "<br>\n",
        "<br>\n",
        "\n",
        "\n",
        "# **Object-oriented Concepts**\n",
        "## What are Python OOPs Concepts?\n",
        "<br>\n",
        "Object-Oriented programming (OOP) is a programming language \n",
        "model organized,around objects rather than \"action\" and data rather than logic.OOP (object-oriented programming) concepts in Python include Class, Object, Method, Inheritance, Polymorphism, Data Abstraction, and Encapsulation. There are four pillars in object oriented programming they are:-\n",
        "<br>\n",
        "\n",
        "\n",
        "*   Encapsulation -*`   grouping items in a single unit`*\n",
        "*   Abstraction - *`It's means provides the necessary details and hide the                         unnecessary details.`*\n",
        "*   Inheritance -*`Inherit the properties from another class`*\n",
        "*   Polymorphism -*`Polymorphism means multiple forms`*\n",
        "\n",
        "Python is  multi-paradigm programming language.For example, int, str, float, \n",
        "list, tuple, dictionary etc. are all objects. Let's try to understand what objects are.\n",
        "\n",
        "\n",
        "\n",
        "\n",
        "\n",
        "\n"
      ]
    },
    {
      "cell_type": "markdown",
      "metadata": {
        "id": "w0Z-AGzjjVil"
      },
      "source": [
        "\n",
        "## What are Class and objects?\n",
        "**Class**\n",
        "<br>\n",
        "A class is a user-defined blueprint or prototype from which objects are created.\n",
        "Python class is group of attributes and methods.\n",
        "<br>\n",
        "Let's create a class called `Employee`."
      ]
    },
    {
      "cell_type": "code",
      "metadata": {
        "id": "QoyOcfj-W-x5"
      },
      "source": [
        "class Employee:\n",
        "  pass #pass means do nothing"
      ],
      "execution_count": null,
      "outputs": []
    },
    {
      "cell_type": "markdown",
      "metadata": {
        "id": "KhYvcK2uXXPH"
      },
      "source": [
        "**Object**\n",
        "<br>Once you have a blueprint, you can make any number of copies of the blueprint. The 'copies' of the blueprint are called objects.The object is an entity that has state and behavior.for example of object is parrot,dog ,cat,boy etc.Now, lets create 'copies' known as objects or instances of the class `Student.`<br>"
      ]
    },
    {
      "cell_type": "code",
      "metadata": {
        "colab": {
          "base_uri": "https://localhost:8080/"
        },
        "id": "ylZDkdf3ScYw",
        "outputId": "f2357a86-9f79-41d8-d3ba-2204af6092a0"
      },
      "source": [
        "employee1 = Employee() #instance of class employee\n",
        "employee2 = Employee()  #another instance of class employee\n",
        "print(type(employee1)) #the type of employee1 is class employee"
      ],
      "execution_count": null,
      "outputs": [
        {
          "output_type": "stream",
          "text": [
            "<class '__main__.Employee'>\n"
          ],
          "name": "stdout"
        }
      ]
    },
    {
      "cell_type": "markdown",
      "metadata": {
        "id": "tFa8lFC6TVSj"
      },
      "source": [
        "Let us see the location in memory where the object instances are created. We use the function `id() `for that."
      ]
    },
    {
      "cell_type": "code",
      "metadata": {
        "colab": {
          "base_uri": "https://localhost:8080/"
        },
        "id": "UiJ_iS5FTiDZ",
        "outputId": "7800c52d-38ad-494d-d2ea-0a8011eb1fd2"
      },
      "source": [
        "print(id(employee1))\n",
        "print(id(employee2))\n",
        "employee1 is employee2\n"
      ],
      "execution_count": null,
      "outputs": [
        {
          "output_type": "stream",
          "text": [
            "139848607259984\n",
            "139848607259920\n"
          ],
          "name": "stdout"
        },
        {
          "output_type": "execute_result",
          "data": {
            "text/plain": [
              "False"
            ]
          },
          "metadata": {
            "tags": []
          },
          "execution_count": 4
        }
      ]
    },
    {
      "cell_type": "code",
      "metadata": {
        "colab": {
          "base_uri": "https://localhost:8080/"
        },
        "id": "aImYzVbGUrIa",
        "outputId": "9880cebb-f4f6-40d5-eb99-4327ab0f54f6"
      },
      "source": [
        "employee2=employee1\n",
        "employee2 is employee1"
      ],
      "execution_count": null,
      "outputs": [
        {
          "output_type": "execute_result",
          "data": {
            "text/plain": [
              "True"
            ]
          },
          "metadata": {
            "tags": []
          },
          "execution_count": 9
        }
      ]
    },
    {
      "cell_type": "markdown",
      "metadata": {
        "id": "bMdmUtXUUlGn"
      },
      "source": [
        " The location in memory of the two instances are different, meaning that they are two different objects. This is verified by the keyword `is`.That is keyword returns True if the variables on the left  side and the right side of the is operator are pointing to the same object. If they are pointing to different objects, then it returns `False`.\n",
        " <br><br>\n",
        " In the code below, we are assigning the object instance `employee1` to the variable `employee3`. In this case, we see that the location in memory of both employee1 and `employee3 `are the same, as verified by the is keyword.\n",
        " <br><br>\n",
        " This means that when we assign an object to a variable, the variable points to the object."
      ]
    },
    {
      "cell_type": "code",
      "metadata": {
        "colab": {
          "base_uri": "https://localhost:8080/"
        },
        "id": "bUcKQLqHVmo5",
        "outputId": "0a0ad494-7540-4838-f226-b0b01f79e45e"
      },
      "source": [
        "employee3 = employee1\n",
        "print(id(employee1))\n",
        "print(id(employee3))\n",
        "employee3 is employee1"
      ],
      "execution_count": null,
      "outputs": [
        {
          "output_type": "stream",
          "text": [
            "139848607259984\n",
            "139848607259984\n"
          ],
          "name": "stdout"
        },
        {
          "output_type": "execute_result",
          "data": {
            "text/plain": [
              "True"
            ]
          },
          "metadata": {
            "tags": []
          },
          "execution_count": 8
        }
      ]
    },
    {
      "cell_type": "markdown",
      "metadata": {
        "id": "2rvTPh4RNnPd"
      },
      "source": [
        "# **Class/instance variables and methods**\n",
        "A class can have properties and methods. Properties hold data values and methods do some action. Normally, properties are `nouns` and methods are `verbs`.\n",
        "\n",
        "Python class properties can be :\n",
        "\n",
        "*   class variable /static variable\n",
        "*   instance variable\n",
        "\n",
        "<br>\n",
        "Class variables are common to all the instances, that is they are accessible from any instance of the class. Class variables are created when the class is defined.\n",
        "\n",
        "Instance variables, on the other hand, are specific to instances. The values of instance variables may differ from instance to instance.\n",
        "\n",
        "Here is an example of a class variable.\n",
        "\n",
        "\n"
      ]
    },
    {
      "cell_type": "code",
      "metadata": {
        "id": "raWqieurZqmp"
      },
      "source": [
        "class Employee:\n",
        "  # class variable\n",
        "  language = \" python programming \""
      ],
      "execution_count": null,
      "outputs": []
    },
    {
      "cell_type": "markdown",
      "metadata": {
        "id": "cBfmxI6UaNyh"
      },
      "source": [
        "Below, we create two instances of` Employee` class, and we print the value of` language` variable on both instances. We find that both print statements give us the same result, since we are printing the class variable."
      ]
    },
    {
      "cell_type": "code",
      "metadata": {
        "colab": {
          "base_uri": "https://localhost:8080/"
        },
        "id": "fYZS53uPaaj6",
        "outputId": "4e8cbf23-4961-4843-d0e5-34c4e9c74a40"
      },
      "source": [
        "employee1 =Employee()\n",
        "employee2 =Employee()\n",
        "print(employee1.language)\n",
        "print(employee2.language)"
      ],
      "execution_count": null,
      "outputs": [
        {
          "output_type": "stream",
          "text": [
            " python programming \n",
            " python programming \n"
          ],
          "name": "stdout"
        }
      ]
    },
    {
      "cell_type": "markdown",
      "metadata": {
        "id": "sskOEsw8cOFG"
      },
      "source": [
        "Let's know look at the example of instance variable<br>\n",
        "instance variables are members of Python classes. To create an instance variable for a Python class, declare the variable inside the class's `__init__ `method.Instance variable are define `__init__` method and initialized usign a constructer with self parameter.\n",
        "<br>\n",
        "<br>\n",
        "There are 3 type of method in python.\n",
        "*  instance methods\n",
        "       1. accessor methods\n",
        "       2. mutator methods  \n",
        "*  class methods\n",
        "*  static methods\n",
        "\n",
        "Instance methods are the method which act upon the instance variable of the class.Instance methods define with `slef` as the first parameter.<br>\n",
        " we define the `Employee `class with the constructor defined.\n"
      ]
    },
    {
      "cell_type": "code",
      "metadata": {
        "id": "VdH6P7uZtieF"
      },
      "source": [
        "class Employee:\n",
        "  # constructor\n",
        "  def __init__(self,emp_name,emp_age,emp_salary):\n",
        "    # instance variable\n",
        "    self.name = emp_name\n",
        "    self.age = emp_age\n",
        "    self.salary = emp_salary"
      ],
      "execution_count": null,
      "outputs": []
    },
    {
      "cell_type": "markdown",
      "metadata": {
        "id": "3V3bwViouN09"
      },
      "source": [
        "Now ,we are passing the three arguments which are passed to the constructor (`__init__`method).Instance variable inside the constructor are initialized to when creating the instance."
      ]
    },
    {
      "cell_type": "code",
      "metadata": {
        "colab": {
          "base_uri": "https://localhost:8080/"
        },
        "id": "BCmsf7jKvwya",
        "outputId": "44979a86-7449-49c0-a3a0-fc37561217d1"
      },
      "source": [
        "employee1= Employee(\"hari\",22,20000)\n",
        "employee2 = Employee(\"ram\",25,40000)\n",
        "\n",
        "print(employee1.name)\n",
        "print(employee1.age)\n",
        "print(employee1.salary)\n",
        "print(employee2.name)\n",
        "print(employee2.age)\n",
        "print(employee2.salary)"
      ],
      "execution_count": null,
      "outputs": [
        {
          "output_type": "stream",
          "text": [
            "hari\n",
            "22\n",
            "20000\n",
            "ram\n",
            "25\n",
            "40000\n"
          ],
          "name": "stdout"
        }
      ]
    },
    {
      "cell_type": "markdown",
      "metadata": {
        "id": "UVZ1Ac5xQTMM"
      },
      "source": [
        "# **`__Str__`**method\n"
      ]
    },
    {
      "cell_type": "markdown",
      "metadata": {
        "id": "HSh0uJtxTz7I"
      },
      "source": [
        "`__str__`is a special method,like a` __init__`,that is supposed to return a string representation of an object."
      ]
    },
    {
      "cell_type": "code",
      "metadata": {
        "colab": {
          "background_save": true,
          "base_uri": "https://localhost:8080/"
        },
        "id": "CqktVMhkUL5O",
        "outputId": "6e486371-1e94-42a0-cad1-65c05e6e680d"
      },
      "source": [
        "class Employee:\n",
        "  # constructor\n",
        "  def __init__(self,emp_name,emp_id,emp_age):\n",
        "    # instance variable\n",
        "      self.name=emp_name\n",
        "      self.id=emp_id\n",
        "      self.age=emp_age\n",
        "    # __str__ method\n",
        "  def __str__(self):\n",
        "    return '{} has a employee no and age {},{}'.format(self.name, self.id, self.age)\n",
        "\n",
        "employee1=Employee(\"ram\",102,23)\n",
        "employee2 = Employee(\"hari\",103,24)\n",
        "print(employee1)\n",
        "print(employee2)\n"
      ],
      "execution_count": null,
      "outputs": [
        {
          "output_type": "stream",
          "text": [
            "ram has a employee no 102and age 23\n",
            "hari has a employee no 103and age 24\n"
          ],
          "name": "stdout"
        }
      ]
    },
    {
      "cell_type": "markdown",
      "metadata": {
        "id": "YRWMVwI0hkni"
      },
      "source": [
        "# **regular method**\n",
        "**Example of method**"
      ]
    },
    {
      "cell_type": "code",
      "metadata": {
        "id": "LzXzZosumDUt",
        "colab": {
          "base_uri": "https://localhost:8080/"
        },
        "outputId": "cbb0f85e-9a74-4ff3-e5b3-e18ff96bee66"
      },
      "source": [
        "class Employee:\n",
        "  # constructor\n",
        "  def __init__(self,emp_name,emp_age):\n",
        "    self.name=emp_name\n",
        "    self.age=emp_age\n",
        "  # str method\n",
        "  def __str__(self):\n",
        "   return '{} is a employee name and her  age is  {}'.format(self.name,self.age)\n",
        "\n",
        "  # regular method\n",
        "  def level_up(self):\n",
        "    self.age +=1\n",
        "\n",
        "employee1=Employee(\"ram\",22)\n",
        "employee2=Employee(\"hari\",23)\n",
        "print(employee1)\n",
        "print(employee2)\n",
        "\n",
        "\n"
      ],
      "execution_count": null,
      "outputs": [
        {
          "output_type": "stream",
          "text": [
            "ram is a employee name and her  age is  22\n",
            "hari is a employee name and her  age is  23\n"
          ],
          "name": "stdout"
        }
      ]
    },
    {
      "cell_type": "markdown",
      "metadata": {
        "id": "8-FWx6UajR-7"
      },
      "source": [
        "Now,When we can call the `level_up `method on the  instance employee1,we see that increased by 1 . If we can not call the `level_up` method on the instance employee1 then employee1 is doesnot incresed by 1.we can also take the example of employee1 is call by `level_up` method then it's increased by 1 and employee2 is doesn't call by `level_up` method then it's doesn't increased by 1."
      ]
    },
    {
      "cell_type": "code",
      "metadata": {
        "colab": {
          "base_uri": "https://localhost:8080/"
        },
        "id": "cyoiuXftkm-2",
        "outputId": "7567e9fb-dfd9-4080-f346-0284445959ea"
      },
      "source": [
        "employee1.level_up()\n",
        "print(employee1)\n",
        "print(employee2)"
      ],
      "execution_count": null,
      "outputs": [
        {
          "output_type": "stream",
          "text": [
            "ram is a employee name and her  age is  23\n",
            "hari is a employee name and her  age is  23\n"
          ],
          "name": "stdout"
        }
      ]
    },
    {
      "cell_type": "markdown",
      "metadata": {
        "id": "rmguDZi1lmXr"
      },
      "source": [
        "# **comprehensions**\n",
        "with comprehensions you can  construct the python sequences.<br>\n",
        "there are 4 types of comprehensions in python or python supported 4 types of comprehensions:-<br>\n",
        "\n",
        "* list comprehensions\n",
        "* set comprehensions\n",
        "* dictionary comprehensions\n",
        "* generator comprehensions"
      ]
    },
    {
      "cell_type": "markdown",
      "metadata": {
        "id": "v7b1XsdamDzO"
      },
      "source": [
        "# **1)list comprehensions**\n",
        "list comprehensions offers shoter syntax when we want to create a new list based on the value exiting list.."
      ]
    },
    {
      "cell_type": "code",
      "metadata": {
        "colab": {
          "base_uri": "https://localhost:8080/"
        },
        "id": "6wMxx_G-mTdN",
        "outputId": "23985994-62ad-4afb-cad9-af55b81ab29e"
      },
      "source": [
        "#The sysntax for create list comprehensions\n",
        "# [Expression for item in iterable]\n",
        "# example of list comprehensions\n",
        "# finding cube value for the specific range\n",
        "cube_list=[i**3 for i in range(1,5)]\n",
        "print(cube_list)"
      ],
      "execution_count": null,
      "outputs": [
        {
          "output_type": "stream",
          "text": [
            "[1, 8, 27, 64]\n"
          ],
          "name": "stdout"
        }
      ]
    },
    {
      "cell_type": "code",
      "metadata": {
        "colab": {
          "base_uri": "https://localhost:8080/"
        },
        "id": "vu83YjxMmdBr",
        "outputId": "44088f5b-bbd6-49e5-d938-910756e945e7"
      },
      "source": [
        "# finding cube value for the even number\n",
        "cube_list=[i**3 for i in range(1,10)if i%2==0]\n",
        "print(cube_list)"
      ],
      "execution_count": null,
      "outputs": [
        {
          "output_type": "stream",
          "text": [
            "[8, 64, 216, 512]\n"
          ],
          "name": "stdout"
        }
      ]
    },
    {
      "cell_type": "code",
      "metadata": {
        "colab": {
          "base_uri": "https://localhost:8080/"
        },
        "id": "xJx7GBvHmg-1",
        "outputId": "a20d6f9c-0756-4ddf-d565-ab236982eba9"
      },
      "source": [
        "#finding cube valulue for the odd number\n",
        "cube_list=[i**3 for i in range(1,10)if i%3==0]\n",
        "print(cube_list)\n"
      ],
      "execution_count": null,
      "outputs": [
        {
          "output_type": "stream",
          "text": [
            "[27, 216, 729]\n"
          ],
          "name": "stdout"
        }
      ]
    },
    {
      "cell_type": "code",
      "metadata": {
        "colab": {
          "base_uri": "https://localhost:8080/"
        },
        "id": "hPZ10Q-GmlRR",
        "outputId": "ac178414-7bc1-40f3-e2fe-62dea2a5f6c9"
      },
      "source": [
        "#list comprehensions with if-else\n",
        "# [expression1 if conditional else expression2 for item in iterable]\n",
        "square_list=[i**2 if i%2==0  else i**5 for i in range(1,10)  ]\n",
        "print(square_list)"
      ],
      "execution_count": null,
      "outputs": [
        {
          "output_type": "stream",
          "text": [
            "[1, 4, 243, 16, 3125, 36, 16807, 64, 59049]\n"
          ],
          "name": "stdout"
        }
      ]
    },
    {
      "cell_type": "code",
      "metadata": {
        "colab": {
          "base_uri": "https://localhost:8080/"
        },
        "id": "auIUpUp0mqvT",
        "outputId": "f3d61aa6-8761-4a42-962e-d2550543cdc0"
      },
      "source": [
        "# Call a method on each element using List Comprehension\n",
        "# you can call a method on each element of an iterable using list comprehension\n",
        "file=[name.capitalize() for name in [\"jyoti\",\"kishan\",\"shivam\"]]\n",
        "print(file)"
      ],
      "execution_count": null,
      "outputs": [
        {
          "output_type": "stream",
          "text": [
            "['Jyoti', 'Kishan', 'Shivam']\n"
          ],
          "name": "stdout"
        }
      ]
    },
    {
      "cell_type": "code",
      "metadata": {
        "colab": {
          "base_uri": "https://localhost:8080/"
        },
        "id": "3bt4xPY6mudj",
        "outputId": "672d0e27-b162-453b-88e6-a1cc271fd43b"
      },
      "source": [
        "# for loop equivalent\n",
        "file=[]\n",
        "for  name in [\"jyoti\",\"kishan\",\"shivam\"]:\n",
        "    file.append(name.capitalize())\n",
        "print(file)"
      ],
      "execution_count": null,
      "outputs": [
        {
          "output_type": "stream",
          "text": [
            "['Jyoti', 'Kishan', 'Shivam']\n"
          ],
          "name": "stdout"
        }
      ]
    },
    {
      "cell_type": "markdown",
      "metadata": {
        "id": "SqcqQLRfm05X"
      },
      "source": [
        "# **2)Set comprehension**\n",
        "set comprehension is like the set comprehension .it's use is curly braces{} and it's return set which do not allow duplicate."
      ]
    },
    {
      "cell_type": "code",
      "metadata": {
        "colab": {
          "base_uri": "https://localhost:8080/"
        },
        "id": "4ukmshPjm7jp",
        "outputId": "6aa4aeba-bb6c-4184-924b-d824685770a8"
      },
      "source": [
        "# example of set comprehension.(let's use the Pythagorean Triplets which have the formula x squre +y squre\n",
        "# equale to z squre\n",
        "# syntax of set comprehension\n",
        "pythagorean_triplets={(x,y,z)for x in range(1,6)for y in range(1,5)for z in range(1,6) if x**2+y**2==z**2 }\n",
        "print(pythagorean_triplets)"
      ],
      "execution_count": null,
      "outputs": [
        {
          "output_type": "stream",
          "text": [
            "{(3, 4, 5), (4, 3, 5)}\n"
          ],
          "name": "stdout"
        }
      ]
    },
    {
      "cell_type": "code",
      "metadata": {
        "colab": {
          "base_uri": "https://localhost:8080/"
        },
        "id": "l-jCqAxvnDDZ",
        "outputId": "fee16a79-d4b6-4ee7-8eda-60e9dabc4a6c"
      },
      "source": [
        "# we can also take the same range for (x,y,z)\n",
        "print(\"this is the pythagorean triplets value:\")\n",
        "\n",
        "pythagorean_triplets={ (x,y,z)for x in range(1,6)for y in range(1,6)for z in range(1,6)if x**2+y**2==z**2}\n",
        "print(pythagorean_triplets)\n"
      ],
      "execution_count": null,
      "outputs": [
        {
          "output_type": "stream",
          "text": [
            "this is the pythagorean triplets value:\n",
            "{(3, 4, 5), (4, 3, 5)}\n"
          ],
          "name": "stdout"
        }
      ]
    },
    {
      "cell_type": "markdown",
      "metadata": {
        "id": "FEQuoaw0nJlI"
      },
      "source": [
        "# **3)Dictionary Comprehension**\n",
        " Dictionary comprehensions are enclosed by curly braces {}."
      ]
    },
    {
      "cell_type": "code",
      "metadata": {
        "colab": {
          "base_uri": "https://localhost:8080/"
        },
        "id": "qmPMR8dXnNmf",
        "outputId": "a5a715b1-ca04-4742-f19f-d60196f1b41d"
      },
      "source": [
        "# The syntax for dictionary comprehension is: {key:value for var in iterable}\n",
        "# For example, you want to create a dictionary for the number range of 1 and 6 and their corresponding cube roots.\n",
        "cube_root_dic={num:num**0.33 for num in range(1,6)}\n",
        "print(\"this is the cube root creating by dictionary comprehension:\")\n",
        "print(cube_root_dic)"
      ],
      "execution_count": null,
      "outputs": [
        {
          "output_type": "stream",
          "text": [
            "this is the cube root creating by dictionary comprehension:\n",
            "{1: 1.0, 2: 1.2570133745218284, 3: 1.4369776521848516, 4: 1.5800826237267545, 5: 1.7008268430839244}\n"
          ],
          "name": "stdout"
        }
      ]
    },
    {
      "cell_type": "code",
      "metadata": {
        "colab": {
          "base_uri": "https://localhost:8080/"
        },
        "id": "EDdemO4rnfmj",
        "outputId": "79b079ae-78c1-44ab-f6fa-db029c343b48"
      },
      "source": [
        "# let's another example  create a dictionary for the number range of 1 and 5 and their corresponding square roots.\n",
        "square_root_dic={i:i**0.5 for i in range(1,5)}\n",
        "print(\"this is the square root creating by dictionary comprehension:\")\n",
        "print(square_root_dic)"
      ],
      "execution_count": null,
      "outputs": [
        {
          "output_type": "stream",
          "text": [
            "this is the square root creating by dictionary comprehension:\n",
            "{1: 1.0, 2: 1.4142135623730951, 3: 1.7320508075688772, 4: 2.0}\n"
          ],
          "name": "stdout"
        }
      ]
    },
    {
      "cell_type": "code",
      "metadata": {
        "colab": {
          "base_uri": "https://localhost:8080/"
        },
        "id": "JHYge0SHnkDw",
        "outputId": "e2808b1a-0d08-494d-932c-67d360a90283"
      },
      "source": [
        "# Another example: Suppose, you want to provide a 20% discount for items with amount more than 100.\n",
        "# You can do that using the dictionary comprehension in the following way.\n",
        "bill={\"apple\":50,\"banana\":75,\"orange\":30,\"mango\":100}\n",
        "discount_bill={k:(v**0.8 if v>20 else v)for k,v in bill.items()}\n",
        "print(discount_bill)"
      ],
      "execution_count": null,
      "outputs": [
        {
          "output_type": "stream",
          "text": [
            "{'apple': 22.86525259636632, 'banana': 31.626345475706252, 'orange': 15.194870523363548, 'mango': 39.810717055349734}\n"
          ],
          "name": "stdout"
        }
      ]
    },
    {
      "cell_type": "markdown",
      "metadata": {
        "id": "rFqdiqE6nxt3"
      },
      "source": [
        "# **Iterators**\n",
        "An iterator is an object that can be iterated upon, meaning that you can traverse through all the values.\n",
        "\n",
        "Technically, in Python, an iterator is an object which implements the iterator protocol, which consist of the methods `__iter__()` and `__next__()`.Examples of built-in iterables are: List, Tuple, String, Set etc.\n",
        "\n",
        "The iter() function, which calls the `__iter__()` method of the iterable, returns an iterator from the iterable passed as argument.\n",
        "\n",
        "Iterating through an Iterator"
      ]
    },
    {
      "cell_type": "markdown",
      "metadata": {
        "id": "38ocDL5IosNQ"
      },
      "source": [
        "The next() function is used to iterate through the items of an iterator .when the end ,there is  not any more data to be returned, an `StopIteration` exception is raised."
      ]
    },
    {
      "cell_type": "code",
      "metadata": {
        "colab": {
          "base_uri": "https://localhost:8080/"
        },
        "id": "VGnFRcs2pYSa",
        "outputId": "a1632c5b-c769-43b3-cdc5-57ccd7c68c31"
      },
      "source": [
        "lst = [\"hello\", \"My\", \"name\", \"is\",\"jyoti\"] # lst is an iterable\n",
        "# build an iterator (item_iterator)by using the iter() function\n",
        "item_iterator = iter(lst) # equivalent to lst.__iter__()\n",
        "# item_iterator = lst.__iter__()\n",
        "\n",
        "# iterate through the iterator using the next() method\n",
        "print(next(item_iterator)) # output \"hello\"\n",
        "print(next(item_iterator)) # output \"My\"\n",
        "print(next(item_iterator)) # output \"name\"\n",
        "print(next(item_iterator)) # output \"is\"\n",
        "print(next(item_iterator)) # output \"jyoti\"\n",
        "print(item_iterator)"
      ],
      "execution_count": null,
      "outputs": [
        {
          "output_type": "stream",
          "text": [
            "hello\n",
            "My\n",
            "name\n",
            "is\n",
            "jyoti\n",
            "<list_iterator object at 0x7fcfc70cf6d0>\n"
          ],
          "name": "stdout"
        }
      ]
    },
    {
      "cell_type": "code",
      "metadata": {
        "id": "XcTN2pYVoWv0"
      },
      "source": [
        "print(next(item_iterator)) # raises StopIteration exception (no more data)"
      ],
      "execution_count": null,
      "outputs": []
    },
    {
      "cell_type": "markdown",
      "metadata": {
        "id": "qETeIA1DqrHK"
      },
      "source": [
        "# **Generators**\n",
        "Generator are function that return sequence of value.we use yield statement to return the value from the function.  We can create generator function in Python using the yield keyword. A generator function can contain one or more yield statements, and it may contain return statement as well.\n",
        "\n",
        "The difference between return and yield is as follows.\n",
        "\n",
        "return : returns the value and terminates the function.\n",
        "\n",
        "yield : yield statement return the element from a generator function into a generator object."
      ]
    },
    {
      "cell_type": "code",
      "metadata": {
        "colab": {
          "base_uri": "https://localhost:8080/"
        },
        "id": "NcPXoXKTrUmP",
        "outputId": "bf701f4c-f09d-45bc-bc0a-239d0ef6f72e"
      },
      "source": [
        "#  generator function definition\n",
        "def item_gen(a,b):\n",
        "    yield a  \n",
        "    yield b  \n",
        "results=item_gen(10,20)\n",
        "print(results)\n",
        "print(type(results))\n",
        "lst= list(results)\n",
        "print(lst)\n",
        "print(type(lst))"
      ],
      "execution_count": null,
      "outputs": [
        {
          "output_type": "stream",
          "text": [
            "<generator object item_gen at 0x7fcfbecf04d0>\n",
            "<class 'generator'>\n",
            "[10, 20]\n",
            "<class 'list'>\n"
          ],
          "name": "stdout"
        }
      ]
    },
    {
      "cell_type": "code",
      "metadata": {
        "id": "r3zygb2krqHg"
      },
      "source": [
        "# creating generator object\n",
        "item_gen_obj = item_gen()"
      ],
      "execution_count": null,
      "outputs": []
    },
    {
      "cell_type": "code",
      "metadata": {
        "colab": {
          "base_uri": "https://localhost:8080/"
        },
        "id": "udC268Ixrdbe",
        "outputId": "815cdb8f-697e-4018-ef1d-77243df0c629"
      },
      "source": [
        "print(type(item_gen_obj)) # item_gen is a generator object"
      ],
      "execution_count": null,
      "outputs": [
        {
          "output_type": "stream",
          "text": [
            "<class 'generator'>\n"
          ],
          "name": "stdout"
        }
      ]
    },
    {
      "cell_type": "code",
      "metadata": {
        "colab": {
          "base_uri": "https://localhost:8080/"
        },
        "id": "3WiwuegArx94",
        "outputId": "52782445-b915-49ad-b44f-62b63b31107b"
      },
      "source": [
        "print(next(item_gen_obj)) # output 2\n",
        "print(next(item_gen_obj)) # output 3\n",
        "print(next(item_gen_obj)) # output 4"
      ],
      "execution_count": null,
      "outputs": [
        {
          "output_type": "stream",
          "text": [
            "2\n",
            "3\n",
            "4\n"
          ],
          "name": "stdout"
        }
      ]
    },
    {
      "cell_type": "code",
      "metadata": {
        "colab": {
          "base_uri": "https://localhost:8080/",
          "height": 163
        },
        "id": "MvpAhCkTr9G_",
        "outputId": "5a7c5d18-57b8-401f-d48a-117f95748c6a"
      },
      "source": [
        "print(next(item_gen)) # raises StopIteration (no more values to return)"
      ],
      "execution_count": null,
      "outputs": [
        {
          "output_type": "error",
          "ename": "TypeError",
          "evalue": "ignored",
          "traceback": [
            "\u001b[0;31m---------------------------------------------------------------------------\u001b[0m",
            "\u001b[0;31mTypeError\u001b[0m                                 Traceback (most recent call last)",
            "\u001b[0;32m<ipython-input-34-f9e063c1475d>\u001b[0m in \u001b[0;36m<module>\u001b[0;34m()\u001b[0m\n\u001b[0;32m----> 1\u001b[0;31m \u001b[0mprint\u001b[0m\u001b[0;34m(\u001b[0m\u001b[0mnext\u001b[0m\u001b[0;34m(\u001b[0m\u001b[0mitem_gen\u001b[0m\u001b[0;34m)\u001b[0m\u001b[0;34m)\u001b[0m \u001b[0;31m# raises StopIteration (no more values to return)\u001b[0m\u001b[0;34m\u001b[0m\u001b[0;34m\u001b[0m\u001b[0m\n\u001b[0m",
            "\u001b[0;31mTypeError\u001b[0m: 'function' object is not an iterator"
          ]
        }
      ]
    },
    {
      "cell_type": "code",
      "metadata": {
        "colab": {
          "base_uri": "https://localhost:8080/"
        },
        "id": "2c5rySG3cAAV",
        "outputId": "efc5b21a-6ace-4e97-e8bc-dd267ac7ccb7"
      },
      "source": [
        " def rev_str(input_str):\n",
        "  length = len(input_str) # get the length of the string\n",
        "  for i in range(length-1, -1, -1): # for example, if the string has 4 characters, then i goes from 3 to 0 \n",
        "    yield  input_str[i] # return one character at a time, starting from the end of the string\n",
        "\n",
        "for i in rev_str(\"generator\"):\n",
        "  print(i)"
      ],
      "execution_count": null,
      "outputs": [
        {
          "output_type": "stream",
          "text": [
            "r\n",
            "o\n",
            "t\n",
            "a\n",
            "r\n",
            "e\n",
            "n\n",
            "e\n",
            "g\n"
          ],
          "name": "stdout"
        }
      ]
    },
    {
      "cell_type": "markdown",
      "metadata": {
        "id": "kKHRGQ2qcgNW"
      },
      "source": [
        "# **Generator Expression**\n",
        "<br>\n",
        "A generator expression is an expression that returns a generator object.Basically, a generator function is a function that contains a yield statement and returns a generator object.For example, the following defines a generator function:"
      ]
    },
    {
      "cell_type": "code",
      "metadata": {
        "id": "GN8f4RdfdXDQ"
      },
      "source": [
        "def squares (length):\n",
        "  for n in range(length):\n",
        "     yield n**2\n",
        "    "
      ],
      "execution_count": null,
      "outputs": []
    },
    {
      "cell_type": "markdown",
      "metadata": {
        "id": "qoePmfend0Wb"
      },
      "source": [
        "The squares generator function returns a generator object that produces square numbers of integers from 0 to length - 1.\n",
        "\n",
        "Because a generator object is an iterator, you can use a for loop to iterate over its elements:"
      ]
    },
    {
      "cell_type": "code",
      "metadata": {
        "colab": {
          "base_uri": "https://localhost:8080/"
        },
        "id": "VVL6IFASdnIU",
        "outputId": "61f978ff-506e-452d-805e-ff19887cddf5"
      },
      "source": [
        "for square in squares(5):\n",
        "    print(square)"
      ],
      "execution_count": null,
      "outputs": [
        {
          "output_type": "stream",
          "text": [
            "0\n",
            "1\n",
            "4\n",
            "9\n",
            "16\n"
          ],
          "name": "stdout"
        }
      ]
    },
    {
      "cell_type": "markdown",
      "metadata": {
        "id": "u7Zzjzggdqmv"
      },
      "source": [
        "A generator expression provides you with a more simple way to return a generator object.\n",
        "\n",
        "The following example defines a generator expression that returns square numbers of integers from 0 to 4:"
      ]
    },
    {
      "cell_type": "markdown",
      "metadata": {
        "id": "iHklcsqoeLDv"
      },
      "source": [
        "# **Decorators**\n",
        "\n",
        "Decorators are very powerful and useful tool in Python. Decorators allow us to wrap another function in order to extend the behavior of the wrapped function, without permanently modifying it.\n",
        "<br> But before diving deep into decorators let us understand some concepts that will come in handy in learning the decorators.\n",
        "<br>\n",
        "Functions are first-class citizens in Python, which means that functions can be treated just like any other regular variables, i.e. functions can be\n",
        "\n",
        "*  passed as arguments to a another function\n",
        "*  returned from a function\n",
        "*  modified\n",
        "*  assigned to a variable\n",
        "<br><br>\n",
        "This concept is fundamental to understanding Python decorators."
      ]
    },
    {
      "cell_type": "code",
      "metadata": {
        "colab": {
          "base_uri": "https://localhost:8080/"
        },
        "id": "X5tbhZIzgJSm",
        "outputId": "c19b565d-9760-43fc-bfc7-c1ec9baedca2"
      },
      "source": [
        "# Assigning functions to variables\n",
        "def increment_one(num):\n",
        "  return num+1\n",
        "\n",
        "add_one = increment_one # function increment_one assigned to variable add_one\n",
        "print(add_one(5))\n",
        "print(increment_one(9))"
      ],
      "execution_count": null,
      "outputs": [
        {
          "output_type": "stream",
          "text": [
            "6\n",
            "10\n"
          ],
          "name": "stdout"
        }
      ]
    },
    {
      "cell_type": "code",
      "metadata": {
        "colab": {
          "base_uri": "https://localhost:8080/"
        },
        "id": "uoV2UFN2i6Da",
        "outputId": "ea7da929-4dd9-4fc4-8518-a02004415296"
      },
      "source": [
        "def increment_one(num):\n",
        "  return num+1\n",
        "  \n",
        "def decrement_one(num):\n",
        "  return num-1\n",
        "  \n",
        "  \n",
        "def my_function(func,num):\n",
        "  return func(num)# here the first argument is a function\n",
        "print(my_function(increment_one, 5))   #increment_one function being passed as a argument \n",
        "print(my_function(decrement_one, 5))\n"
      ],
      "execution_count": null,
      "outputs": [
        {
          "output_type": "stream",
          "text": [
            "6\n",
            "4\n"
          ],
          "name": "stdout"
        }
      ]
    },
    {
      "cell_type": "code",
      "metadata": {
        "colab": {
          "base_uri": "https://localhost:8080/"
        },
        "id": "h5H0pfNbd83S",
        "outputId": "c1a9664c-8a09-4f13-8ffc-4b87c4a00982"
      },
      "source": [
        "# Function will be  returned from a function\n",
        "def double():\n",
        "  def mult_by_3(num):\n",
        "    return 3*num\n",
        "  return mult_by_3    # function will be returned\n",
        "\n",
        "num3= double()  #num3 is a function => returned by double()\n",
        "result = num3(12)\n",
        "print(result)\n"
      ],
      "execution_count": null,
      "outputs": [
        {
          "output_type": "stream",
          "text": [
            "36\n"
          ],
          "name": "stdout"
        }
      ]
    },
    {
      "cell_type": "code",
      "metadata": {
        "colab": {
          "base_uri": "https://localhost:8080/"
        },
        "id": "dRIQHN42mFPf",
        "outputId": "081bdc69-0fb3-4ce6-db18-1f28388040bf"
      },
      "source": [
        "# Let's see another example of decorators\n",
        "# function will be returned from a function \n",
        "def square():\n",
        "  def square_by_2(num):\n",
        "    return 2**(num)\n",
        "  return square_by_2 #function will be returned\n",
        "\n",
        "square_num= square() #square_num is a function => returned by square()\n",
        "result = square_num(4)\n",
        "print(result)"
      ],
      "execution_count": null,
      "outputs": [
        {
          "output_type": "stream",
          "text": [
            "16\n"
          ],
          "name": "stdout"
        }
      ]
    },
    {
      "cell_type": "markdown",
      "metadata": {
        "id": "FFqJzhlmnMdE"
      },
      "source": [
        "Now, let's look at decorators."
      ]
    },
    {
      "cell_type": "code",
      "metadata": {
        "id": "6EHxY32WnNLi"
      },
      "source": [
        "# Decorator takes in a function, and adds a  some of the  functionality and returns it\n",
        "\n",
        "# The decorate() function will decorate the function given to it as argument. \n",
        "# So, it can be considered a decorator.\n",
        "def decorate(func):\n",
        "  def inner_func():\n",
        "    print(\"function has been decorated\")\n",
        "    return func()\n",
        "  return inner_func\n",
        "\n",
        "# we will decorate this function\n",
        "def regular_func():\n",
        "  return \"Just a regular function\" "
      ],
      "execution_count": null,
      "outputs": []
    },
    {
      "cell_type": "code",
      "metadata": {
        "colab": {
          "base_uri": "https://localhost:8080/",
          "height": 35
        },
        "id": "87_2CvyzsXqp",
        "outputId": "9c23a069-a2bb-48cd-9c2b-caa61db7e0eb"
      },
      "source": [
        "# regular_func() being invoked (called)\n",
        "regular_func()"
      ],
      "execution_count": null,
      "outputs": [
        {
          "output_type": "execute_result",
          "data": {
            "application/vnd.google.colaboratory.intrinsic+json": {
              "type": "string"
            },
            "text/plain": [
              "'Just a regular function'"
            ]
          },
          "metadata": {
            "tags": []
          },
          "execution_count": 23
        }
      ]
    },
    {
      "cell_type": "code",
      "metadata": {
        "colab": {
          "base_uri": "https://localhost:8080/"
        },
        "id": "GKYP2MIaseO5",
        "outputId": "7aa701fb-809c-4cbb-f72e-89cf253beb9a"
      },
      "source": [
        "# decorating the regular_func() function\n",
        "decorated = decorate(regular_func)\n",
        "print(decorated())"
      ],
      "execution_count": null,
      "outputs": [
        {
          "output_type": "stream",
          "text": [
            "function has been decorated\n",
            "Just a regular function\n"
          ],
          "name": "stdout"
        }
      ]
    },
    {
      "cell_type": "markdown",
      "metadata": {
        "id": "eQCtrvzaskx8"
      },
      "source": [
        "Let's see in the above code , the decorator function added some functionality (printing the statement \"function has been decorated\") to the regular_func function.\n",
        "Now, we have an easier way of decorating a function by using the @ symbol and the name of the decorator just above the function to be decorated as shown below."
      ]
    },
    {
      "cell_type": "code",
      "metadata": {
        "id": "IJtRHSopstO_"
      },
      "source": [
        "@decorate\n",
        "def regular_func():\n",
        "  return \"Just a regular function\""
      ],
      "execution_count": null,
      "outputs": []
    },
    {
      "cell_type": "code",
      "metadata": {
        "colab": {
          "base_uri": "https://localhost:8080/",
          "height": 35
        },
        "id": "mb0Zx1FDs5MV",
        "outputId": "be6c711b-f76d-4613-c31a-09ae1191c5f8"
      },
      "source": [
        "regular_func()"
      ],
      "execution_count": null,
      "outputs": [
        {
          "output_type": "execute_result",
          "data": {
            "application/vnd.google.colaboratory.intrinsic+json": {
              "type": "string"
            },
            "text/plain": [
              "'Just a regular function'"
            ]
          },
          "metadata": {
            "tags": []
          },
          "execution_count": 25
        }
      ]
    },
    {
      "cell_type": "markdown",
      "metadata": {
        "id": "OTGse1i5s9Mg"
      },
      "source": [
        "Now, let's see another useful example of decorator.\n",
        "\n",
        "Supppose, you have the following function."
      ]
    },
    {
      "cell_type": "code",
      "metadata": {
        "id": "rqNY9r1Bs-XM"
      },
      "source": [
        "def div(a,b):\n",
        "  return a/b"
      ],
      "execution_count": null,
      "outputs": []
    },
    {
      "cell_type": "code",
      "metadata": {
        "colab": {
          "base_uri": "https://localhost:8080/",
          "height": 231
        },
        "id": "KZ_HbeqctG9Z",
        "outputId": "59a5d46e-c06a-47b0-b0d5-3224ffd10efe"
      },
      "source": [
        "div(2,0)    # throws division by zero error"
      ],
      "execution_count": null,
      "outputs": [
        {
          "output_type": "error",
          "ename": "ZeroDivisionError",
          "evalue": "ignored",
          "traceback": [
            "\u001b[0;31m---------------------------------------------------------------------------\u001b[0m",
            "\u001b[0;31mZeroDivisionError\u001b[0m                         Traceback (most recent call last)",
            "\u001b[0;32m<ipython-input-29-421f9dd1c795>\u001b[0m in \u001b[0;36m<module>\u001b[0;34m()\u001b[0m\n\u001b[0;32m----> 1\u001b[0;31m \u001b[0mdiv\u001b[0m\u001b[0;34m(\u001b[0m\u001b[0;36m2\u001b[0m\u001b[0;34m,\u001b[0m\u001b[0;36m0\u001b[0m\u001b[0;34m)\u001b[0m    \u001b[0;31m# throws division by zero error\u001b[0m\u001b[0;34m\u001b[0m\u001b[0;34m\u001b[0m\u001b[0m\n\u001b[0m",
            "\u001b[0;32m<ipython-input-28-2f7c9335f181>\u001b[0m in \u001b[0;36mdiv\u001b[0;34m(a, b)\u001b[0m\n\u001b[1;32m      1\u001b[0m \u001b[0;32mdef\u001b[0m \u001b[0mdiv\u001b[0m\u001b[0;34m(\u001b[0m\u001b[0ma\u001b[0m\u001b[0;34m,\u001b[0m\u001b[0mb\u001b[0m\u001b[0;34m)\u001b[0m\u001b[0;34m:\u001b[0m\u001b[0;34m\u001b[0m\u001b[0;34m\u001b[0m\u001b[0m\n\u001b[0;32m----> 2\u001b[0;31m   \u001b[0;32mreturn\u001b[0m \u001b[0ma\u001b[0m\u001b[0;34m/\u001b[0m\u001b[0mb\u001b[0m\u001b[0;34m\u001b[0m\u001b[0;34m\u001b[0m\u001b[0m\n\u001b[0m",
            "\u001b[0;31mZeroDivisionError\u001b[0m: division by zero"
          ]
        }
      ]
    },
    {
      "cell_type": "markdown",
      "metadata": {
        "id": "DzlpjKmNtkm_"
      },
      "source": [
        "The function call resulted in a division by zero error.\n",
        "\n",
        "We can avoid such errors by using a decorator to the div() function."
      ]
    },
    {
      "cell_type": "code",
      "metadata": {
        "id": "b2nWwjNAtsLD"
      },
      "source": [
        "# decorator function\n",
        "def validate_div(func):\n",
        "  def inner_func(a,b):\n",
        "    print(\"Dividing{} by {} ...\".format(a,b))\n",
        "    if b==0:\n",
        "      print(\"Sorry! can't divide by zero!\")\n",
        "      return\n",
        "    return func(a,b)\n",
        "  return inner_func\n",
        "\n",
        "@validate_div     #decorating div function\n",
        "def div(a,b):\n",
        "  return a/b\n"
      ],
      "execution_count": null,
      "outputs": []
    },
    {
      "cell_type": "code",
      "metadata": {
        "colab": {
          "base_uri": "https://localhost:8080/"
        },
        "id": "GGHrgx1Puw1s",
        "outputId": "ddadfcb9-c711-4282-a28a-57778c86e2c2"
      },
      "source": [
        "div(2,0)"
      ],
      "execution_count": null,
      "outputs": [
        {
          "output_type": "stream",
          "text": [
            "Dividing2 by 0 ...\n",
            "Sorry! can't divide by zero!\n"
          ],
          "name": "stdout"
        }
      ]
    },
    {
      "cell_type": "markdown",
      "metadata": {
        "id": "8mwWPxcMu2Rc"
      },
      "source": [
        "As we know the above , the division by zero error was averted by the use of a decorator function - validate_div()."
      ]
    },
    {
      "cell_type": "code",
      "metadata": {
        "colab": {
          "base_uri": "https://localhost:8080/"
        },
        "id": "P7OthqaDu_oq",
        "outputId": "9926cec4-5d51-40d6-b788-ef5446ba3cdb"
      },
      "source": [
        "div(4,5)"
      ],
      "execution_count": null,
      "outputs": [
        {
          "output_type": "stream",
          "text": [
            "Dividing4 by 5 ...\n"
          ],
          "name": "stdout"
        },
        {
          "output_type": "execute_result",
          "data": {
            "text/plain": [
              "0.8"
            ]
          },
          "metadata": {
            "tags": []
          },
          "execution_count": 36
        }
      ]
    },
    {
      "cell_type": "markdown",
      "metadata": {
        "id": "1LYSh4MHvFsU"
      },
      "source": [
        "# **Closure**\n",
        "\n",
        "A Closure is a function object that remembers values in enclosing scopes even if they are not present in memory.<br>\n",
        "When we define a function inside another function, the inner function is called a nested function. Nested functions are able to access variables defined in the enclosing (outer) function.\n"
      ]
    },
    {
      "cell_type": "code",
      "metadata": {
        "colab": {
          "base_uri": "https://localhost:8080/"
        },
        "id": "AxSoJyI5vdpx",
        "outputId": "e6507d7b-a0ff-479f-d005-082100bc5a0b"
      },
      "source": [
        "def transmit_to_space(message):\n",
        "    \"This is the enclosing function\"\n",
        "    def data_transmitter():\n",
        "        \"The nested function\"\n",
        "        print(message)\n",
        "\n",
        "    data_transmitter()\n",
        "\n",
        "print(transmit_to_space(\"Test message\"))"
      ],
      "execution_count": null,
      "outputs": [
        {
          "output_type": "stream",
          "text": [
            "Test message\n",
            "None\n"
          ],
          "name": "stdout"
        }
      ]
    },
    {
      "cell_type": "markdown",
      "metadata": {
        "id": "OxEBFbm3wAFi"
      },
      "source": [
        "This works well as the 'data_transmitter' function can access the 'message'. To demonstrate the use of the \"nonlocal\" keyword, consider this"
      ]
    },
    {
      "cell_type": "code",
      "metadata": {
        "colab": {
          "base_uri": "https://localhost:8080/"
        },
        "id": "4R9XkihEvzgn",
        "outputId": "be7cf039-9ba8-42ff-aa24-6bb917ea4c08"
      },
      "source": [
        "def print_msg(number):\n",
        "    def printer():\n",
        "        \"Here we are using the nonlocal keyword\"\n",
        "        nonlocal number\n",
        "        number=3\n",
        "        print(number)\n",
        "    printer()\n",
        "    print(number)\n",
        "print_msg(9)"
      ],
      "execution_count": null,
      "outputs": [
        {
          "output_type": "stream",
          "text": [
            "3\n",
            "3\n"
          ],
          "name": "stdout"
        }
      ]
    },
    {
      "cell_type": "markdown",
      "metadata": {
        "id": "m2jcRhwcwHYN"
      },
      "source": [
        "Now, how about we return the function object rather than calling the nested function within."
      ]
    },
    {
      "cell_type": "code",
      "metadata": {
        "colab": {
          "base_uri": "https://localhost:8080/"
        },
        "id": "yrnt4JfkwIHd",
        "outputId": "408c4106-d478-47ad-875c-3d7ac9da464c"
      },
      "source": [
        "def transmit_to_space(message):\n",
        "    \"This is the enclosing function\"\n",
        "    def data_transmitter():\n",
        "        \"The nested function\"\n",
        "        print(message)\n",
        "    return data_transmitter\n",
        "fun2 = transmit_to_space(\"Good Morning!\")\n",
        "fun2()"
      ],
      "execution_count": null,
      "outputs": [
        {
          "output_type": "stream",
          "text": [
            "Good Morning!\n"
          ],
          "name": "stdout"
        }
      ]
    },
    {
      "cell_type": "markdown",
      "metadata": {
        "id": "Ptmuq9_TwzqC"
      },
      "source": [
        "Even if we deleted the original function (transmit_to_space()), the msg variable defined in the original function was still availble.\n",
        "\n",
        "This is called Closure.\n",
        "\n",
        "As seen above, the properties of closure are:\n",
        "\n",
        "There must be a nested function (function inside a function)\n",
        "The nested function should refer to a variable defined in the scope of enclosing function\n",
        "The enclosing function should return the nested function."
      ]
    },
    {
      "cell_type": "markdown",
      "metadata": {
        "id": "PqOPW3mTxF12"
      },
      "source": [
        "# **\"THE END\"**"
      ]
    }
  ]
}