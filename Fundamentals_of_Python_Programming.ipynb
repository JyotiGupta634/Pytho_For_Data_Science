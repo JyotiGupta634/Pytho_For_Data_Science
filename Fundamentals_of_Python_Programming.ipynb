{
  "nbformat": 4,
  "nbformat_minor": 0,
  "metadata": {
    "colab": {
      "name": "Fundamentals of Python Programming.ipynb",
      "provenance": [],
      "collapsed_sections": [],
      "authorship_tag": "ABX9TyOSKq7AMg9XJETVCJPuh0M6",
      "include_colab_link": true
    },
    "kernelspec": {
      "display_name": "Python 3",
      "name": "python3"
    },
    "language_info": {
      "name": "python"
    }
  },
  "cells": [
    {
      "cell_type": "markdown",
      "metadata": {
        "id": "view-in-github",
        "colab_type": "text"
      },
      "source": [
        "<a href=\"https://colab.research.google.com/github/JyotiGupta634/Pytho_For_Data_Science/blob/main/Fundamentals_of_Python_Programming.ipynb\" target=\"_parent\"><img src=\"https://colab.research.google.com/assets/colab-badge.svg\" alt=\"Open In Colab\"/></a>"
      ]
    },
    {
      "cell_type": "markdown",
      "metadata": {
        "id": "pYcH2qDDYtlj"
      },
      "source": [
        "# **Fundamentals Of Python Programming**\n"
      ]
    },
    {
      "cell_type": "markdown",
      "metadata": {
        "id": "YwcOZn2qZANV"
      },
      "source": [
        "By: Jyoti Gupta<br>\n",
        "Welcome to My Fundamental Of Python programming notes."
      ]
    },
    {
      "cell_type": "markdown",
      "metadata": {
        "id": "Aht28CDXqs3s"
      },
      "source": [
        "# **1)Python Introduction**"
      ]
    },
    {
      "cell_type": "markdown",
      "metadata": {
        "id": "3Bqu-B_bqvar"
      },
      "source": [
        "Python is a general-purpose programming language that can be used on any modern computer operating system. It can be used for processing text, numbers, images, scientific data and just about anything else you might save on a computer. It is used daily in the operations of the Google search engine, the video-sharing website YouTube, NASA and the New York Stock Exchange.Python is an interpreted language.This means that it is not converted to computer-readable code before the program is run but at runtime."
      ]
    },
    {
      "cell_type": "markdown",
      "metadata": {
        "id": "s_PAjmaArSys"
      },
      "source": [
        "**2)Python Hello World**<br>\n",
        "When we learning any new programming language, it is customary to write a Hello World! statement\n",
        "and run it. Keeping with the tradition, let’s write our Hello World! statement in Python and run\n",
        "it.\n"
      ]
    },
    {
      "cell_type": "markdown",
      "metadata": {
        "id": "WdMNZLeSrvta"
      },
      "source": [
        "**2.0.1 Print “Hello World”**<br>\n",
        "In order to print “Hello World!”, type the syntax: print(\"Hello World!\") on notebook and press Ctrl+Enter"
      ]
    },
    {
      "cell_type": "code",
      "metadata": {
        "colab": {
          "base_uri": "https://localhost:8080/"
        },
        "id": "5Gv90thwZV4X",
        "outputId": "52552f1c-11ae-4577-b129-7ce24900cdf8"
      },
      "source": [
        "print(\"hello World!\")"
      ],
      "execution_count": null,
      "outputs": [
        {
          "output_type": "stream",
          "text": [
            "hello World!\n"
          ],
          "name": "stdout"
        }
      ]
    },
    {
      "cell_type": "markdown",
      "metadata": {
        "id": "HiotqvRrvDLM"
      },
      "source": [
        "**2.0.2 Exercise 1.1:**\n",
        "<br>\n",
        "Write the syntax to print “I love Python” and run it."
      ]
    },
    {
      "cell_type": "code",
      "metadata": {
        "colab": {
          "base_uri": "https://localhost:8080/"
        },
        "id": "ljJ71RiOvWVJ",
        "outputId": "c3d01498-04db-478c-8b3b-4ee5fdda9071"
      },
      "source": [
        " # write you code to print \"I love Python\" below and run it.\n",
        "print(\"I love Python\")"
      ],
      "execution_count": null,
      "outputs": [
        {
          "output_type": "stream",
          "text": [
            "I love Python\n"
          ],
          "name": "stdout"
        }
      ]
    },
    {
      "cell_type": "markdown",
      "metadata": {
        "id": "vUdmEL8zvkJ8"
      },
      "source": [
        "**2.1 Python comments**\n",
        "<br>\n",
        "Comments play a very important role while writing a program. It describes the program to the user so that they can easily understand the program.<br>\n",
        "In Python hash`(#) `is used to start writing a comment. The interpreter does not interpret the comment.\n",
        "\n",
        "Python supports two types of comments. They are:\n",
        "\n",
        "Learn Comments In Python\n",
        "*  Single Line Comment.\n",
        "*  Multi-Line Comment.\n"
      ]
    },
    {
      "cell_type": "markdown",
      "metadata": {
        "id": "Kg3JOXFtwo4u"
      },
      "source": [
        "**1. Single Line Comment**\n",
        "<br>If you want to single line comment, you need to put a “#” symbol before\n",
        "the comment. Example is shown below"
      ]
    },
    {
      "cell_type": "code",
      "metadata": {
        "id": "6SMp-4uUxFaK"
      },
      "source": [
        "#  This is a single line comment. Always comment your code.\n"
      ],
      "execution_count": null,
      "outputs": []
    },
    {
      "cell_type": "markdown",
      "metadata": {
        "id": "JROO1_ZIxQJa"
      },
      "source": [
        "**2.Multi line comments**\n",
        "<br> If your comment is going to be more than one line, you can enclose them\n",
        "with ””” as shown in the example below.\n"
      ]
    },
    {
      "cell_type": "code",
      "metadata": {
        "colab": {
          "base_uri": "https://localhost:8080/",
          "height": 35
        },
        "id": "qaJgImoHxXHC",
        "outputId": "d3491f24-4101-487b-de40-2ec5c8018c93"
      },
      "source": [
        " \"\"\"This is multi-line comment\n",
        "If your comment is going to be \n",
        "more than one line you can enclose them with multi-line comments.\"\"\""
      ],
      "execution_count": null,
      "outputs": [
        {
          "output_type": "execute_result",
          "data": {
            "application/vnd.google.colaboratory.intrinsic+json": {
              "type": "string"
            },
            "text/plain": [
              "'This is multi-line comment\\nIf your comment is going to be \\nmore than one line you can enclose them with multi-line comments.'"
            ]
          },
          "metadata": {
            "tags": []
          },
          "execution_count": 66
        }
      ]
    },
    {
      "cell_type": "markdown",
      "metadata": {
        "id": "ApYcxJaYxWQI"
      },
      "source": [
        "**3 Python Variables**\n",
        "<br>\n",
        "Variables are containers that hold data values. Please look at the examples of variables below."
      ]
    },
    {
      "cell_type": "code",
      "metadata": {
        "colab": {
          "base_uri": "https://localhost:8080/"
        },
        "id": "eYaRHqckJ1hK",
        "outputId": "bde19c39-8b4e-48b1-fe1e-a7ff1a604e4d"
      },
      "source": [
        " # examples of variables\n",
        "x = 6 # the variable x holds the value 2\n",
        "# variables are case-sensitive (i.e. variables x and X are different)\n",
        "X = 3 # this variable X is different from x above\n",
        "# You will see that the values of x and X are different\n",
        "print('x =', x)\n",
        "print('X =', X)"
      ],
      "execution_count": null,
      "outputs": [
        {
          "output_type": "stream",
          "text": [
            "x = 6\n",
            "X = 3\n"
          ],
          "name": "stdout"
        }
      ]
    },
    {
      "cell_type": "code",
      "metadata": {
        "colab": {
          "base_uri": "https://localhost:8080/"
        },
        "id": "KKVsXTx5J65p",
        "outputId": "e0901a3a-8cbb-44dc-a179-c2c083c5f275"
      },
      "source": [
        " # variables can hold string values (text) as well. String needs to be enclosed␣\n",
        "# ,→inside a pair of single or double quotes.\n",
        "language = 'Python' # string inside single quotes\n",
        "name = \"John\" # string inside double quotes\n",
        "# when you print variables, the values that they hold gets printed\n",
        "print('language:', language)\n",
        "print('name:', name)"
      ],
      "execution_count": null,
      "outputs": [
        {
          "output_type": "stream",
          "text": [
            "language: Python\n",
            "name: John\n"
          ],
          "name": "stdout"
        }
      ]
    },
    {
      "cell_type": "markdown",
      "metadata": {
        "id": "uoifguAtKW57"
      },
      "source": [
        "**Rules for variable names**\n",
        "*  A variable name must start with a letter or the underscore character (like _var or mVar)\n",
        "*  It can only contain alpha-numeric characters and underscores (A-z, 0-9, and _ )\n",
        "*  Variable names are case-sensitive (var, Var, and VAR are three different variables)\n",
        "*  Can’t start with a number"
      ]
    },
    {
      "cell_type": "code",
      "metadata": {
        "id": "0mwXWVZXKrah"
      },
      "source": [
        " # the code below will show an error when you run it\n",
        "7name = \"Jyoti\" # variable name cannot start with a number, so you will get an error."
      ],
      "execution_count": null,
      "outputs": []
    },
    {
      "cell_type": "code",
      "metadata": {
        "id": "hsEKdr48LU9b"
      },
      "source": [
        "# the following variable names are valid\n",
        "_age = 22\n",
        "name7 = \"Jyoti\" # number can be anywhere after the first character\n",
        "n7ame = 'Niharika' # number can be anywhere after the first character"
      ],
      "execution_count": null,
      "outputs": []
    },
    {
      "cell_type": "code",
      "metadata": {
        "colab": {
          "base_uri": "https://localhost:8080/"
        },
        "id": "4mrpobguLdRW",
        "outputId": "fa3e2ffe-75e1-4508-dad8-ed3d82a71976"
      },
      "source": [
        "# variable names are case-sensitive. So the following two variables are different although they have the same spelling.\n",
        "country = \"Nepal\"\n",
        "Country = \"India\"\n",
        "# print the variables\n",
        "print(\"_age:\", _age)\n",
        "print(\"name7:\", name7)\n",
        "print(\"n7ame:\", n7ame)\n",
        "print(\"country:\", country)\n",
        "print(\"Country:\", Country)"
      ],
      "execution_count": null,
      "outputs": [
        {
          "output_type": "stream",
          "text": [
            "_age: 22\n",
            "name7: Jyoti\n",
            "n7ame: Niharika\n",
            "country: Nepal\n",
            "Country: India\n"
          ],
          "name": "stdout"
        }
      ]
    },
    {
      "cell_type": "markdown",
      "metadata": {
        "id": "VJtbupJHLxYI"
      },
      "source": [
        "**Exercise 2.1**\n",
        "<br> Create variables named ‘name’ and ‘age’ and assign your name and age respectively.\n",
        "Then print the variables. Also, put appropriate comments in your code"
      ]
    },
    {
      "cell_type": "code",
      "metadata": {
        "colab": {
          "base_uri": "https://localhost:8080/"
        },
        "id": "f-7PAu1hL39E",
        "outputId": "70a3a36e-6784-436a-eb5e-1c18ea13fc44"
      },
      "source": [
        "# create a variable 'name' and assign your name to it\n",
        "name='jyoti'\n",
        "# create a variable 'age' and assign your age to it\n",
        "age=22\n",
        "# print the above two variables\n",
        "print(name,age)"
      ],
      "execution_count": null,
      "outputs": [
        {
          "output_type": "stream",
          "text": [
            "jyoti 22\n"
          ],
          "name": "stdout"
        }
      ]
    },
    {
      "cell_type": "markdown",
      "metadata": {
        "id": "GqGkmEAnMGmA"
      },
      "source": [
        "**3 Python Data Types**\n",
        "<br>\n",
        "Variables can hold different types of data.\n",
        "Python has the following data types.\n",
        " * Text (String): str\n",
        " * Numeric (Numbers): int, float,\n",
        "complex \n",
        " * Sequence: list, tuple, range\n",
        " * Mapping: dict \n",
        " * Set: set, frozenset \n",
        " * Boolean\n",
        "(True/False): bool \n",
        " * Binary (ones/zeros): bytes, bytearray, memoryview\n",
        " \n",
        "Examples of commonly used data types"
      ]
    },
    {
      "cell_type": "code",
      "metadata": {
        "id": "roQFKyhMMjPq"
      },
      "source": [
        "name = \"Sabbu\" # str type (string)\n",
        "age = 22 # int type (integer)\n",
        "height = 3.01 # float type (floating point)\n",
        "fruits = [\"Apple\", \"Banana\", \"Pear\"] # list type (use square brackets)\n",
        "countries = {\"China\", \"India\", \"Nepal\"} # set type (use curly braces)\n",
        "colors = (\"red\", \"green\", \"blue\") # tuple type (use parentheses)\n",
        "x = range(5) # range type\n",
        "my_info = {name: \"Sabbu\", age: 22} # dict type (key:value pairs inside a pair of,→curly braces)\n",
        "is_ok = True # boolean type (either True or False)"
      ],
      "execution_count": null,
      "outputs": []
    },
    {
      "cell_type": "markdown",
      "metadata": {
        "id": "WripMJgNMyiC"
      },
      "source": [
        "You can use type() to show the type of the variable as shown below."
      ]
    },
    {
      "cell_type": "code",
      "metadata": {
        "colab": {
          "base_uri": "https://localhost:8080/"
        },
        "id": "y8ZPg9zdMxlk",
        "outputId": "367bfc64-604f-4381-c43a-f94b445e9671"
      },
      "source": [
        " print(\"Type of name variable:\",type(name))\n",
        "print(\"Type of my_info variable:\",type(my_info))\n",
        "print(\"Type of is_ok variable:\",type(is_ok))\n"
      ],
      "execution_count": null,
      "outputs": [
        {
          "output_type": "stream",
          "text": [
            "Type of name variable: <class 'str'>\n",
            "Type of my_info variable: <class 'dict'>\n",
            "Type of is_ok variable: <class 'bool'>\n"
          ],
          "name": "stdout"
        }
      ]
    },
    {
      "cell_type": "markdown",
      "metadata": {
        "id": "9Jv53BsIM5qm"
      },
      "source": [
        "Python Type casting You can create a variable of particular type, or convert one type to another\n",
        "type, by something called casting. Here are some examples.\n"
      ]
    },
    {
      "cell_type": "code",
      "metadata": {
        "colab": {
          "base_uri": "https://localhost:8080/"
        },
        "id": "TM4JhPbGM7uD",
        "outputId": "51c779ca-0fa9-4a28-fe73-35c554d25384"
      },
      "source": [
        "int_var = int(3.53) # int_var will contain the value int value 2 (numbers after the decimal are discarded)\n",
        "str_var = str(50) # str_var will contain the value \"45\" in string form\n",
        "float_var = float(\"3.14\") # float_var will contain the value 3.14 in floating point format\n",
        "# you can simply assign the values to the variables and the type is automatically inferred\n",
        "int_var_auto = 4\n",
        "str_var_auto = \"hello\"\n",
        "float_var_auto = 3.14\n",
        "print(\"Type of int_var_auto\", type(int_var_auto))\n",
        "print(\"Type of str_var_auto\", type(str_var_auto))\n",
        "print(\"Type of float_var_auto\", type(float_var_auto))\n"
      ],
      "execution_count": null,
      "outputs": [
        {
          "output_type": "stream",
          "text": [
            "Type of int_var_auto <class 'int'>\n",
            "Type of str_var_auto <class 'str'>\n",
            "Type of float_var_auto <class 'float'>\n"
          ],
          "name": "stdout"
        }
      ]
    },
    {
      "cell_type": "code",
      "metadata": {
        "colab": {
          "base_uri": "https://localhost:8080/"
        },
        "id": "swbQMxkMNH7b",
        "outputId": "ae795ad6-b6f5-4e1d-93e0-c489bccb8804"
      },
      "source": [
        "#  let's convert int_var to float type\n",
        "int_var_convert_float = float(int_var)\n",
        "print(int_var_convert_float)\n",
        "print(type(int_var_convert_float))"
      ],
      "execution_count": null,
      "outputs": [
        {
          "output_type": "stream",
          "text": [
            "3.0\n",
            "<class 'float'>\n"
          ],
          "name": "stdout"
        }
      ]
    },
    {
      "cell_type": "markdown",
      "metadata": {
        "id": "YC4vfq9ANM5M"
      },
      "source": [
        "**3.2 Exercise 2.1**\n",
        "<br>\n",
        "Create a variable of type int and convert it to float and str type.\n"
      ]
    },
    {
      "cell_type": "code",
      "metadata": {
        "colab": {
          "base_uri": "https://localhost:8080/"
        },
        "id": "sqDwYjGONT3L",
        "outputId": "ceb709bb-e815-4899-9ebd-d07db70e4f79"
      },
      "source": [
        "# write code below to create a variable of type int\n",
        "int_var1=5.90\n",
        "print(int_var1)\n",
        "\n",
        "# write code below to convert the above int variable to float\n",
        "int_variable_convert_float1=float(int_var1)\n",
        "\n",
        "# write code below to convert the int variable you created above to str type\n",
        "print(type(int_variable_convert_float1))"
      ],
      "execution_count": null,
      "outputs": [
        {
          "output_type": "stream",
          "text": [
            "5.9\n",
            "<class 'float'>\n"
          ],
          "name": "stdout"
        }
      ]
    },
    {
      "cell_type": "markdown",
      "metadata": {
        "id": "N1wwCUg_Nox3"
      },
      "source": [
        "**4) Python Operators**\n",
        "<br>\n",
        "Operators are special symbols in Python that carry out arithmetic or logical computation. The value that the operator operates on is called the operand.\n",
        "*  Arithmetic operators\n",
        "*  Assignment operators\n",
        "*  Comparison operators\n",
        "*  Logical operators\n",
        "*  Identity operators\n",
        "*  Membership operators\n",
        "*  Bitwise operators"
      ]
    },
    {
      "cell_type": "markdown",
      "metadata": {
        "id": "TdzL7IXiOEcH"
      },
      "source": [
        "**4.1 Arithmetic Operators**"
      ]
    },
    {
      "cell_type": "code",
      "metadata": {
        "colab": {
          "base_uri": "https://localhost:8080/"
        },
        "id": "sfAp5hchOGNn",
        "outputId": "c1f0b37e-d1d8-4a4d-b534-2e01d1de5af7"
      },
      "source": [
        " # Addition (+)\n",
        "6+10"
      ],
      "execution_count": null,
      "outputs": [
        {
          "output_type": "execute_result",
          "data": {
            "text/plain": [
              "16"
            ]
          },
          "metadata": {
            "tags": []
          },
          "execution_count": 77
        }
      ]
    },
    {
      "cell_type": "code",
      "metadata": {
        "colab": {
          "base_uri": "https://localhost:8080/"
        },
        "id": "9B9s5037OM1J",
        "outputId": "ba0cf334-8e31-4614-f900-a62a094bdc31"
      },
      "source": [
        "# subtraction(-)\n",
        "10-2"
      ],
      "execution_count": null,
      "outputs": [
        {
          "output_type": "execute_result",
          "data": {
            "text/plain": [
              "8"
            ]
          },
          "metadata": {
            "tags": []
          },
          "execution_count": 78
        }
      ]
    },
    {
      "cell_type": "code",
      "metadata": {
        "colab": {
          "base_uri": "https://localhost:8080/"
        },
        "id": "5dApVqWbORIY",
        "outputId": "09c6f9b5-abc5-4f33-9341-3f0399abd4ce"
      },
      "source": [
        "# multiplication(*)\n",
        "5*2"
      ],
      "execution_count": null,
      "outputs": [
        {
          "output_type": "execute_result",
          "data": {
            "text/plain": [
              "10"
            ]
          },
          "metadata": {
            "tags": []
          },
          "execution_count": 79
        }
      ]
    },
    {
      "cell_type": "code",
      "metadata": {
        "colab": {
          "base_uri": "https://localhost:8080/"
        },
        "id": "BfwLpZPYOWLf",
        "outputId": "94f26bab-2e59-4674-a5e8-26512f4d7f44"
      },
      "source": [
        "# division(/)\n",
        "10/2"
      ],
      "execution_count": null,
      "outputs": [
        {
          "output_type": "execute_result",
          "data": {
            "text/plain": [
              "5.0"
            ]
          },
          "metadata": {
            "tags": []
          },
          "execution_count": 80
        }
      ]
    },
    {
      "cell_type": "code",
      "metadata": {
        "colab": {
          "base_uri": "https://localhost:8080/"
        },
        "id": "lJ9Twoe5OaWs",
        "outputId": "191df2f6-e6b4-4915-9012-3b4dfceb930a"
      },
      "source": [
        "# modulas(%)\n",
        "10%3"
      ],
      "execution_count": null,
      "outputs": [
        {
          "output_type": "execute_result",
          "data": {
            "text/plain": [
              "1"
            ]
          },
          "metadata": {
            "tags": []
          },
          "execution_count": 82
        }
      ]
    },
    {
      "cell_type": "code",
      "metadata": {
        "colab": {
          "base_uri": "https://localhost:8080/"
        },
        "id": "tipC_8TvOiJk",
        "outputId": "8c02e540-9a01-4c51-8916-3dc8a5730328"
      },
      "source": [
        "#  Exponentiation ( ** ) or power\n",
        "5**8"
      ],
      "execution_count": null,
      "outputs": [
        {
          "output_type": "execute_result",
          "data": {
            "text/plain": [
              "390625"
            ]
          },
          "metadata": {
            "tags": []
          },
          "execution_count": 84
        }
      ]
    },
    {
      "cell_type": "code",
      "metadata": {
        "colab": {
          "base_uri": "https://localhost:8080/"
        },
        "id": "rZ8gi9ObOqF_",
        "outputId": "38806c4c-7498-47a6-b8d4-3083eb65e0ac"
      },
      "source": [
        " # Floor division ( // )\n",
        "10//2"
      ],
      "execution_count": null,
      "outputs": [
        {
          "output_type": "execute_result",
          "data": {
            "text/plain": [
              "5"
            ]
          },
          "metadata": {
            "tags": []
          },
          "execution_count": 85
        }
      ]
    },
    {
      "cell_type": "markdown",
      "metadata": {
        "id": "nP-wKDNfOv2H"
      },
      "source": [
        "**4.3 Assignment Operators**\n",
        "<br> = operator assigns the value on the right hand side to the variable on the,→left hand side\n"
      ]
    },
    {
      "cell_type": "code",
      "metadata": {
        "colab": {
          "base_uri": "https://localhost:8080/"
        },
        "id": "zu_ePFR9lw7s",
        "outputId": "3c60ee81-bccc-4b81-a612-234f32b224b5"
      },
      "source": [
        "x=6\n",
        "x"
      ],
      "execution_count": null,
      "outputs": [
        {
          "output_type": "execute_result",
          "data": {
            "text/plain": [
              "6"
            ]
          },
          "metadata": {
            "tags": []
          },
          "execution_count": 96
        }
      ]
    },
    {
      "cell_type": "code",
      "metadata": {
        "colab": {
          "base_uri": "https://localhost:8080/"
        },
        "id": "YbdPv9cZl3D_",
        "outputId": "55ed6652-67fe-4fff-9ec6-47dd9bbff831"
      },
      "source": [
        "# +=\n",
        "x += 3 # same as x = x + 3 # RESULT should be 9\n",
        "x\n"
      ],
      "execution_count": null,
      "outputs": [
        {
          "output_type": "execute_result",
          "data": {
            "text/plain": [
              "12"
            ]
          },
          "metadata": {
            "tags": []
          },
          "execution_count": 98
        }
      ]
    },
    {
      "cell_type": "code",
      "metadata": {
        "colab": {
          "base_uri": "https://localhost:8080/"
        },
        "id": "zk94Zqh6PDwm",
        "outputId": "f84bf9c2-aa9d-4ee3-a279-5332739f5988"
      },
      "source": [
        "# -=\n",
        "x -= 5 # same as x = x - 3 # RESULT should be 9\n",
        "x"
      ],
      "execution_count": null,
      "outputs": [
        {
          "output_type": "execute_result",
          "data": {
            "text/plain": [
              "4"
            ]
          },
          "metadata": {
            "tags": []
          },
          "execution_count": 100
        }
      ]
    },
    {
      "cell_type": "code",
      "metadata": {
        "colab": {
          "base_uri": "https://localhost:8080/"
        },
        "id": "Mp4TmzMTmSal",
        "outputId": "bf088631-16ba-4c6f-89e2-f3e578990979"
      },
      "source": [
        "# *=\n",
        "x *= 3 # same as x = x * 3 # RESULT should be 12"
      ],
      "execution_count": null,
      "outputs": [
        {
          "output_type": "execute_result",
          "data": {
            "text/plain": [
              "12"
            ]
          },
          "metadata": {
            "tags": []
          },
          "execution_count": 101
        }
      ]
    },
    {
      "cell_type": "code",
      "metadata": {
        "colab": {
          "base_uri": "https://localhost:8080/"
        },
        "id": "d9UzC1PkmYAH",
        "outputId": "d64dda25-e822-4052-9e98-c5fc5c63f311"
      },
      "source": [
        "# /=\n",
        "x /= 4 # same as x = x / 3 # RESULT should be 3.0\n",
        "x"
      ],
      "execution_count": null,
      "outputs": [
        {
          "output_type": "execute_result",
          "data": {
            "text/plain": [
              "3.0"
            ]
          },
          "metadata": {
            "tags": []
          },
          "execution_count": 102
        }
      ]
    },
    {
      "cell_type": "code",
      "metadata": {
        "colab": {
          "base_uri": "https://localhost:8080/"
        },
        "id": "r0vcYO0DmgTc",
        "outputId": "274aaa3c-0f81-43ae-d419-e4e0c36868e1"
      },
      "source": [
        "# %=\n",
        "x %= 2# same as x = x % 3 # RESULT should be 1.0\n",
        "x"
      ],
      "execution_count": null,
      "outputs": [
        {
          "output_type": "execute_result",
          "data": {
            "text/plain": [
              "1.0"
            ]
          },
          "metadata": {
            "tags": []
          },
          "execution_count": 103
        }
      ]
    },
    {
      "cell_type": "code",
      "metadata": {
        "colab": {
          "base_uri": "https://localhost:8080/"
        },
        "id": "E7A40rc-mn0X",
        "outputId": "57d4beed-d2d7-450f-c2ad-f9ffe7e33d73"
      },
      "source": [
        "#  //=\n",
        "x = 12\n",
        "x //= 4 # same as x = x - 3 # RESULT should be 3\n",
        "x"
      ],
      "execution_count": null,
      "outputs": [
        {
          "output_type": "execute_result",
          "data": {
            "text/plain": [
              "3"
            ]
          },
          "metadata": {
            "tags": []
          },
          "execution_count": 106
        }
      ]
    },
    {
      "cell_type": "code",
      "metadata": {
        "colab": {
          "base_uri": "https://localhost:8080/"
        },
        "id": "sjyVYv1-mz2y",
        "outputId": "7a25d396-3e40-4dc1-c80a-dc312ea4e740"
      },
      "source": [
        "# **=\n",
        "x **= 3 # same as x = x ** 3 # RESULT should be 27\n",
        "x\n"
      ],
      "execution_count": null,
      "outputs": [
        {
          "output_type": "execute_result",
          "data": {
            "text/plain": [
              "27"
            ]
          },
          "metadata": {
            "tags": []
          },
          "execution_count": 107
        }
      ]
    },
    {
      "cell_type": "markdown",
      "metadata": {
        "id": "t7jL7yhxm6lR"
      },
      "source": [
        "**4.4 Comparison Operators**\n",
        "<br>Comparison operators produce a result as boolean (True/False) values."
      ]
    },
    {
      "cell_type": "code",
      "metadata": {
        "colab": {
          "base_uri": "https://localhost:8080/"
        },
        "id": "zFV_-KWCnG6a",
        "outputId": "854acc77-7d48-4d69-8ec3-05f633d8c605"
      },
      "source": [
        "# == (Equal to)\n",
        "5 == 4 #result should be  False"
      ],
      "execution_count": null,
      "outputs": [
        {
          "output_type": "execute_result",
          "data": {
            "text/plain": [
              "False"
            ]
          },
          "metadata": {
            "tags": []
          },
          "execution_count": 110
        }
      ]
    },
    {
      "cell_type": "code",
      "metadata": {
        "colab": {
          "base_uri": "https://localhost:8080/"
        },
        "id": "_RNw41BxnT9N",
        "outputId": "865df542-9017-4376-f371-71c97fe4501e"
      },
      "source": [
        "# != (Not equal to)\n",
        "12 != 30 # True"
      ],
      "execution_count": null,
      "outputs": [
        {
          "output_type": "execute_result",
          "data": {
            "text/plain": [
              "True"
            ]
          },
          "metadata": {
            "tags": []
          },
          "execution_count": 111
        }
      ]
    },
    {
      "cell_type": "code",
      "metadata": {
        "colab": {
          "base_uri": "https://localhost:8080/"
        },
        "id": "HwgXI7Zhna15",
        "outputId": "27d8371b-a7f0-41bf-8fa6-e1619de34981"
      },
      "source": [
        "# > (Greater than)\n",
        "21 > 33 # result should be False"
      ],
      "execution_count": null,
      "outputs": [
        {
          "output_type": "execute_result",
          "data": {
            "text/plain": [
              "False"
            ]
          },
          "metadata": {
            "tags": []
          },
          "execution_count": 113
        }
      ]
    },
    {
      "cell_type": "code",
      "metadata": {
        "colab": {
          "base_uri": "https://localhost:8080/"
        },
        "id": "QTB-aX-Dne_o",
        "outputId": "d245386b-d1d4-471d-9ead-79a80380473a"
      },
      "source": [
        " # < (Less than)\n",
        "24 < 31 # result should be  True"
      ],
      "execution_count": null,
      "outputs": [
        {
          "output_type": "execute_result",
          "data": {
            "text/plain": [
              "True"
            ]
          },
          "metadata": {
            "tags": []
          },
          "execution_count": 114
        }
      ]
    },
    {
      "cell_type": "code",
      "metadata": {
        "colab": {
          "base_uri": "https://localhost:8080/"
        },
        "id": "JUGfhLB9ntL-",
        "outputId": "d8c40be6-9bb1-4536-ffcc-69395ecea6e2"
      },
      "source": [
        " # >= (Greater than or equal to)\n",
        "2 >= 3 # result should be False"
      ],
      "execution_count": null,
      "outputs": [
        {
          "output_type": "execute_result",
          "data": {
            "text/plain": [
              "False"
            ]
          },
          "metadata": {
            "tags": []
          },
          "execution_count": 115
        }
      ]
    },
    {
      "cell_type": "code",
      "metadata": {
        "colab": {
          "base_uri": "https://localhost:8080/"
        },
        "id": "g3e-oA_JnzYZ",
        "outputId": "5a4deb8c-819d-473b-f16c-3c77a2639396"
      },
      "source": [
        "# <= (Less than or equal to)\n",
        "2 <= 2 # result should be True"
      ],
      "execution_count": null,
      "outputs": [
        {
          "output_type": "execute_result",
          "data": {
            "text/plain": [
              "True"
            ]
          },
          "metadata": {
            "tags": []
          },
          "execution_count": 116
        }
      ]
    },
    {
      "cell_type": "markdown",
      "metadata": {
        "id": "EQijpVfgn89M"
      },
      "source": [
        "Rest of the operators will be introduced after some concepts (e.g. List, Object etc.) related to them\n",
        "are introduced"
      ]
    },
    {
      "cell_type": "markdown",
      "metadata": {
        "id": "m3Q62_EYn-BU"
      },
      "source": [
        "**5 Python List**\n",
        "<br>Let's see, we saw that a variable could store only one value. We can store multiple values in a variable.\n",
        "List helps us do tha"
      ]
    },
    {
      "cell_type": "code",
      "metadata": {
        "colab": {
          "base_uri": "https://localhost:8080/"
        },
        "id": "ZqqxE2Y8oVEw",
        "outputId": "e19f221f-9b78-4d2b-a3ff-faa2e8487028"
      },
      "source": [
        "# List is enclosed in square brackets\n",
        "days_of_week = ['Sunday', 'Monday', 'Tuesday', 'Wednesday', 'Thursday','Friday', 'Saturday']\n",
        "days_of_week"
      ],
      "execution_count": null,
      "outputs": [
        {
          "output_type": "execute_result",
          "data": {
            "text/plain": [
              "['Sunday', 'Monday', 'Tuesday', 'Wednesday', 'Thursday', 'Friday', 'Saturday']"
            ]
          },
          "metadata": {
            "tags": []
          },
          "execution_count": 118
        }
      ]
    },
    {
      "cell_type": "markdown",
      "metadata": {
        "id": "huSxwWtAofSv"
      },
      "source": [
        "You can find the number of items in the list using len()"
      ]
    },
    {
      "cell_type": "code",
      "metadata": {
        "colab": {
          "base_uri": "https://localhost:8080/"
        },
        "id": "dCqJugy2olpg",
        "outputId": "184a3066-7e79-4157-9a82-5c2312951aba"
      },
      "source": [
        "# number of items in the list\n",
        "len(days_of_week)\n"
      ],
      "execution_count": null,
      "outputs": [
        {
          "output_type": "execute_result",
          "data": {
            "text/plain": [
              "7"
            ]
          },
          "metadata": {
            "tags": []
          },
          "execution_count": 119
        }
      ]
    },
    {
      "cell_type": "markdown",
      "metadata": {
        "id": "UE_M8jSvofyi"
      },
      "source": [
        "The items in the list can be of any data type.\n"
      ]
    },
    {
      "cell_type": "code",
      "metadata": {
        "colab": {
          "base_uri": "https://localhost:8080/"
        },
        "id": "JpHkGInkoqEB",
        "outputId": "220f7722-f56f-4cda-9b64-7ba596da8342"
      },
      "source": [
        "my_list = [7, 8.0, 'Hello', 'flase','true']\n",
        "my_list\n"
      ],
      "execution_count": null,
      "outputs": [
        {
          "output_type": "execute_result",
          "data": {
            "text/plain": [
              "[7, 8.0, 'Hello', 'flase', 'true']"
            ]
          },
          "metadata": {
            "tags": []
          },
          "execution_count": 120
        }
      ]
    },
    {
      "cell_type": "markdown",
      "metadata": {
        "id": "l032G4pto5X_"
      },
      "source": [
        "**5.1 Access List items**\n",
        "<br>\n",
        "List is an ordered collection of items, i.e. each item has an index (position number) associated with\n",
        "it. The index always starts with zero. So, the first item in the list has index 0, second item has\n",
        "index 1 and so on. You can access any item in the list by its index, as shown in the example below"
      ]
    },
    {
      "cell_type": "code",
      "metadata": {
        "colab": {
          "base_uri": "https://localhost:8080/"
        },
        "id": "5g7od1v9o7dS",
        "outputId": "d0e85ae2-c9b1-4247-c20e-8dfcab04573a"
      },
      "source": [
        " days_of_week = ['Sunday', 'Monday', 'Tuesday', 'Wednesday', 'Thursday','Friday', 'Saturday']\n",
        "# Let's access the first item in the list. Index 0.\n",
        "print(days_of_week[0])\n",
        "# fourth item in the list. Index 3\n",
        "print(days_of_week[3])"
      ],
      "execution_count": null,
      "outputs": [
        {
          "output_type": "stream",
          "text": [
            "Sunday\n",
            "Wednesday\n"
          ],
          "name": "stdout"
        }
      ]
    },
    {
      "cell_type": "markdown",
      "metadata": {
        "id": "gYxYO5KwpR3B"
      },
      "source": [
        "**Negative indexing** You can use negative index to access items from the end of the list. The last\n",
        "item in the list has the index -1, second last -2 and so on. Please see the examples.\n"
      ]
    },
    {
      "cell_type": "code",
      "metadata": {
        "colab": {
          "base_uri": "https://localhost:8080/"
        },
        "id": "e3cvQaDapXAv",
        "outputId": "d608f6c4-c9a7-40b6-d7e8-d9a0cf42eac3"
      },
      "source": [
        "days_of_week = ['Sunday', 'Monday', 'Tuesday', 'Wednesday', 'Thursday','Friday', 'Saturday']\n",
        "# last item in the list. Index -1\n",
        "print(days_of_week[-7])\n",
        "# third last item in the list, Index -3\n",
        "print(days_of_week[-4])\n"
      ],
      "execution_count": null,
      "outputs": [
        {
          "output_type": "stream",
          "text": [
            "Sunday\n",
            "Wednesday\n"
          ],
          "name": "stdout"
        }
      ]
    },
    {
      "cell_type": "markdown",
      "metadata": {
        "id": "GEA0Ogripibt"
      },
      "source": [
        "Range of indexes You can select more than one contiguous items in the list as a range (start_index\n",
        ": end_index+1). Examples shown below.\n"
      ]
    },
    {
      "cell_type": "code",
      "metadata": {
        "colab": {
          "base_uri": "https://localhost:8080/"
        },
        "id": "_GhoqKCApj1n",
        "outputId": "a3812371-e6a2-46ab-fd4b-6da060509c1d"
      },
      "source": [
        "days_of_week = ['Sunday', 'Monday', 'Tuesday', 'Wednesday', 'Thursday','Friday', 'Saturday']\n",
        "days_of_week_0_3 = days_of_week[1:4] # returns a new list with the range of items selected\n",
        "print(days_of_week_0_3) # items with indexes 1, 2, 3 will be printed. Remembert he end index 4 is not printed.\n",
        "print(days_of_week) # the original list is unchanged"
      ],
      "execution_count": null,
      "outputs": [
        {
          "output_type": "stream",
          "text": [
            "['Monday', 'Tuesday', 'Wednesday']\n",
            "['Sunday', 'Monday', 'Tuesday', 'Wednesday', 'Thursday', 'Friday', 'Saturday']\n"
          ],
          "name": "stdout"
        }
      ]
    },
    {
      "cell_type": "code",
      "metadata": {
        "colab": {
          "base_uri": "https://localhost:8080/"
        },
        "id": "ZCmhC2w5ysHu",
        "outputId": "83e572c6-a46e-44da-baaa-6bc763c38e6b"
      },
      "source": [
        "days_of_week = ['Sunday', 'Monday', 'Tuesday', 'Wednesday', 'Thursday','Friday', 'Saturday']\n",
        "days_of_week[:6] # indexes 0, 1, 2 will be selected"
      ],
      "execution_count": null,
      "outputs": [
        {
          "output_type": "execute_result",
          "data": {
            "text/plain": [
              "['Sunday', 'Monday', 'Tuesday', 'Wednesday', 'Thursday', 'Friday']"
            ]
          },
          "metadata": {
            "tags": []
          },
          "execution_count": 125
        }
      ]
    },
    {
      "cell_type": "markdown",
      "metadata": {
        "id": "HgGQls3Ny0YG"
      },
      "source": [
        "If you leave out the end index, all the items from the start index to the end of the list is selected."
      ]
    },
    {
      "cell_type": "code",
      "metadata": {
        "colab": {
          "base_uri": "https://localhost:8080/"
        },
        "id": "vU3xSKP5y1Sk",
        "outputId": "7fa12fdc-7e10-4b18-f9a8-2caa195907cc"
      },
      "source": [
        " days_of_week = ['Sunday', 'Monday', 'Tuesday', 'Wednesday', 'Thursday','Friday', 'Saturday']\n",
        "days_of_week[5:] # items 5, 6 will be selected"
      ],
      "execution_count": null,
      "outputs": [
        {
          "output_type": "execute_result",
          "data": {
            "text/plain": [
              "['Friday', 'Saturday']"
            ]
          },
          "metadata": {
            "tags": []
          },
          "execution_count": 126
        }
      ]
    },
    {
      "cell_type": "markdown",
      "metadata": {
        "id": "uUAE86n7y9vU"
      },
      "source": [
        "You can use in operator to check if an item is present in the list."
      ]
    },
    {
      "cell_type": "code",
      "metadata": {
        "colab": {
          "base_uri": "https://localhost:8080/"
        },
        "id": "pCZuntUpy-cp",
        "outputId": "0cd131f8-8e65-4fba-f6a6-41943a784d80"
      },
      "source": [
        "'Saturday' in days_of_week"
      ],
      "execution_count": null,
      "outputs": [
        {
          "output_type": "execute_result",
          "data": {
            "text/plain": [
              "True"
            ]
          },
          "metadata": {
            "tags": []
          },
          "execution_count": 127
        }
      ]
    },
    {
      "cell_type": "code",
      "metadata": {
        "colab": {
          "base_uri": "https://localhost:8080/"
        },
        "id": "xNiz0135zCMV",
        "outputId": "1599a010-dbf3-418a-d131-df7b7bb54be3"
      },
      "source": [
        "'Satrday' in days_of_week"
      ],
      "execution_count": null,
      "outputs": [
        {
          "output_type": "execute_result",
          "data": {
            "text/plain": [
              "False"
            ]
          },
          "metadata": {
            "tags": []
          },
          "execution_count": 128
        }
      ]
    },
    {
      "cell_type": "markdown",
      "metadata": {
        "id": "Q5ZBQYSWzHPt"
      },
      "source": [
        "**5.2 Change List items**<br>\n",
        "`Change item value` If you assign a value to the list at the item number, you replace the old value\n",
        "with the new one."
      ]
    },
    {
      "cell_type": "code",
      "metadata": {
        "colab": {
          "base_uri": "https://localhost:8080/"
        },
        "id": "-I-FniLgzh2w",
        "outputId": "f0cea35a-873c-4c10-de37-7e73b7074109"
      },
      "source": [
        "days_of_week = ['Sunday', 'Monday', 'Tuesday', 'Wednesday', 'Thursday','Friday', 'Saturday']\n",
        "days_of_week[1] = \"Mon\"\n",
        "days_of_week"
      ],
      "execution_count": null,
      "outputs": [
        {
          "output_type": "execute_result",
          "data": {
            "text/plain": [
              "['Sunday', 'Mon', 'Tuesday', 'Wednesday', 'Thursday', 'Friday', 'Saturday']"
            ]
          },
          "metadata": {
            "tags": []
          },
          "execution_count": 129
        }
      ]
    },
    {
      "cell_type": "markdown",
      "metadata": {
        "id": "bgWN-Rlzzm-Q"
      },
      "source": [
        "**Change a range of item values**"
      ]
    },
    {
      "cell_type": "code",
      "metadata": {
        "colab": {
          "base_uri": "https://localhost:8080/"
        },
        "id": "6TiCPGgJziUY",
        "outputId": "aff860f9-110e-4726-8465-3838104cff2d"
      },
      "source": [
        "days_of_week = ['sunday','Monday','Tuesday','Wednesday','Thursday','Friday','Saturday']\n",
        "days_of_week[3:7] = [\"Wed\",\"Sat\"]\n",
        "days_of_week"
      ],
      "execution_count": null,
      "outputs": [
        {
          "output_type": "execute_result",
          "data": {
            "text/plain": [
              "['sunday', 'Monday', 'Tuesday', 'Wed', 'Sat']"
            ]
          },
          "metadata": {
            "tags": []
          },
          "execution_count": 130
        }
      ]
    },
    {
      "cell_type": "markdown",
      "metadata": {
        "id": "1WfnBzEf0YlJ"
      },
      "source": [
        "If you assign more values than idexes specified in the range, the extra values will be inserted and\n",
        "the rest of the original values get pushed to the right."
      ]
    },
    {
      "cell_type": "code",
      "metadata": {
        "colab": {
          "base_uri": "https://localhost:8080/"
        },
        "id": "-dA6EXCqDfrw",
        "outputId": "aca2c8cc-099d-449c-bec7-11e7306a6558"
      },
      "source": [
        " days_of_week = ['Sunday', 'Monday', 'Tuesday', 'Wednesday', 'Thursday','Friday', 'Saturday']\n",
        "days_of_week[3:4] = [\"Wed\", \"Thu\"]\n",
        "print(days_of_week)\n",
        "print(len(days_of_week)) # note that the size of the list is expanded"
      ],
      "execution_count": null,
      "outputs": [
        {
          "output_type": "stream",
          "text": [
            "['Sunday', 'Monday', 'Tuesday', 'Wed', 'Thu', 'Thursday', 'Friday', 'Saturday']\n",
            "8\n"
          ],
          "name": "stdout"
        }
      ]
    },
    {
      "cell_type": "markdown",
      "metadata": {
        "id": "2IbF1pfwEHED"
      },
      "source": [
        "If you assign less values than the indexes specified in the range, the original values in the indexes\n",
        "not provided values to be replaced for will be deleted."
      ]
    },
    {
      "cell_type": "code",
      "metadata": {
        "colab": {
          "base_uri": "https://localhost:8080/"
        },
        "id": "8bf4wPRRESWP",
        "outputId": "b0495945-ba9e-441a-f601-d32facd6c182"
      },
      "source": [
        "days_of_week = ['Sunday', 'Monday', 'Tuesday', 'Wednesday', 'Thursday','Friday', 'Saturday']\n",
        "days_of_week[1:3] = [\"Munda\"] # indexes given: 1, 2; values given \"Munda\",which goes at index 1 and original\n",
        "# value at index 2 (\"Tue\") is deleted.\n",
        "days_of_week"
      ],
      "execution_count": null,
      "outputs": [
        {
          "output_type": "execute_result",
          "data": {
            "text/plain": [
              "['Sunday', 'Munda', 'Wednesday', 'Thursday', 'Friday', 'Saturday']"
            ]
          },
          "metadata": {
            "tags": []
          },
          "execution_count": 135
        }
      ]
    },
    {
      "cell_type": "markdown",
      "metadata": {
        "id": "wBVrz4O2Ek0D"
      },
      "source": [
        "**Insert items** \n",
        "If you can   want to insert items without replacing original items, you need to use insert()."
      ]
    },
    {
      "cell_type": "code",
      "metadata": {
        "colab": {
          "base_uri": "https://localhost:8080/"
        },
        "id": "elf5p95oErQJ",
        "outputId": "9c8fdcd9-e5e4-424f-8eae-b9e39594688b"
      },
      "source": [
        "my_list = [1,2,3]\n",
        "my_list.insert(1, \"inserted\")\n",
        "my_list\n"
      ],
      "execution_count": null,
      "outputs": [
        {
          "output_type": "execute_result",
          "data": {
            "text/plain": [
              "[1, 'inserted', 2, 3]"
            ]
          },
          "metadata": {
            "tags": []
          },
          "execution_count": 136
        }
      ]
    },
    {
      "cell_type": "markdown",
      "metadata": {
        "id": "VNYFig4WBzO_"
      },
      "source": [
        "**5.3 Add List items**\n",
        "<br>\n",
        "Add items to the end of the list, use the append() method."
      ]
    },
    {
      "cell_type": "code",
      "metadata": {
        "colab": {
          "base_uri": "https://localhost:8080/"
        },
        "id": "3MTCXzoBByfY",
        "outputId": "d4e14bae-fd63-4a11-8b47-12786eaf40e4"
      },
      "source": [
        "my_list = [6,5,4]\n",
        "my_list.append(3)\n",
        "my_list"
      ],
      "execution_count": null,
      "outputs": [
        {
          "output_type": "execute_result",
          "data": {
            "text/plain": [
              "[6, 5, 4, 3]"
            ]
          },
          "metadata": {
            "tags": []
          },
          "execution_count": 1
        }
      ]
    },
    {
      "cell_type": "markdown",
      "metadata": {
        "id": "3q_TDLxcCWjb"
      },
      "source": [
        "To add items from another list, use extend() method.\n"
      ]
    },
    {
      "cell_type": "code",
      "metadata": {
        "colab": {
          "base_uri": "https://localhost:8080/"
        },
        "id": "cvbRbHUGCbWt",
        "outputId": "cb5b7ca0-48da-47e0-e56e-5c22d731f1ed"
      },
      "source": [
        "list_to_add = [50,100]\n",
        "my_list.extend(list_to_add)\n",
        "my_list # the added items are added to the end of the list"
      ],
      "execution_count": null,
      "outputs": [
        {
          "output_type": "execute_result",
          "data": {
            "text/plain": [
              "[6, 5, 4, 3, 50, 100]"
            ]
          },
          "metadata": {
            "tags": []
          },
          "execution_count": 2
        }
      ]
    },
    {
      "cell_type": "markdown",
      "metadata": {
        "id": "LqfN28q1CojC"
      },
      "source": [
        "**5.4 Remove List items**\n",
        "<br>\n",
        "The remove() method removes the specified item provided as  a argument.\n",
        "\n"
      ]
    },
    {
      "cell_type": "code",
      "metadata": {
        "colab": {
          "base_uri": "https://localhost:8080/"
        },
        "id": "3sO2gXIZC1oE",
        "outputId": "e4cac370-eaed-462c-d3d8-f9d870990a08"
      },
      "source": [
        "my_list = [\"sunday\", \"monday\", \"tuesday\"]\n",
        "my_list.remove(\"monday\")\n",
        "my_list"
      ],
      "execution_count": null,
      "outputs": [
        {
          "output_type": "execute_result",
          "data": {
            "text/plain": [
              "['sunday', 'tuesday']"
            ]
          },
          "metadata": {
            "tags": []
          },
          "execution_count": 3
        }
      ]
    },
    {
      "cell_type": "markdown",
      "metadata": {
        "id": "DanZyLE2DcGZ"
      },
      "source": [
        "**Remove item at a specified index**\n",
        "<br>\n",
        "You can use pop() method to remove an item at a specified index."
      ]
    },
    {
      "cell_type": "code",
      "metadata": {
        "colab": {
          "base_uri": "https://localhost:8080/"
        },
        "id": "p8Zg-iGzDyZc",
        "outputId": "757f6efd-19db-4f38-a89f-5807536c0ce0"
      },
      "source": [
        "my_list = [10,20,30]\n",
        "my_list.pop(1)\n",
        "my_list\n"
      ],
      "execution_count": null,
      "outputs": [
        {
          "output_type": "execute_result",
          "data": {
            "text/plain": [
              "[10, 30]"
            ]
          },
          "metadata": {
            "tags": []
          },
          "execution_count": 4
        }
      ]
    },
    {
      "cell_type": "markdown",
      "metadata": {
        "id": "TCvWMspFD9Di"
      },
      "source": [
        "If we do not give any argument to pop(), the last item in the list will be removed."
      ]
    },
    {
      "cell_type": "code",
      "metadata": {
        "colab": {
          "base_uri": "https://localhost:8080/"
        },
        "id": "XhZAAU_xEOmi",
        "outputId": "aa41dddb-ce6c-4614-fc81-cf899161f6ae"
      },
      "source": [
        "my_list = [1,2,3,4,5,6,7,8,9]\n",
        "my_list.pop()\n",
        "my_list\n"
      ],
      "execution_count": null,
      "outputs": [
        {
          "output_type": "execute_result",
          "data": {
            "text/plain": [
              "[1, 2, 3, 4, 5, 6, 7, 8]"
            ]
          },
          "metadata": {
            "tags": []
          },
          "execution_count": 5
        }
      ]
    },
    {
      "cell_type": "markdown",
      "metadata": {
        "id": "PO9bb5lAEYiD"
      },
      "source": [
        "del keyword can also be used to remove or delete  an item at a specified index"
      ]
    },
    {
      "cell_type": "code",
      "metadata": {
        "colab": {
          "base_uri": "https://localhost:8080/"
        },
        "id": "luGo0yFPEdod",
        "outputId": "f7123fd2-0897-4fca-e710-84c5bcf2dfe2"
      },
      "source": [
        "my_list = [1, 2, 3,4,5,6,7,8]\n",
        "del my_list[5]\n",
        "my_list\n"
      ],
      "execution_count": null,
      "outputs": [
        {
          "output_type": "execute_result",
          "data": {
            "text/plain": [
              "[1, 2, 3, 4, 5, 7, 8]"
            ]
          },
          "metadata": {
            "tags": []
          },
          "execution_count": 7
        }
      ]
    },
    {
      "cell_type": "markdown",
      "metadata": {
        "id": "--bRiS6SEuhC"
      },
      "source": [
        "**Clear the list**\n",
        "<br>If we want to remove all the list items,we can use clear()method. the difference about between del and clear().\n"
      ]
    },
    {
      "cell_type": "code",
      "metadata": {
        "colab": {
          "base_uri": "https://localhost:8080/"
        },
        "id": "BcNOSSwxFWPc",
        "outputId": "a383949e-5592-4214-af4a-473af9e00273"
      },
      "source": [
        "my_list = [10,20,30]\n",
        "my_list.clear()\n",
        "my_list\n"
      ],
      "execution_count": null,
      "outputs": [
        {
          "output_type": "execute_result",
          "data": {
            "text/plain": [
              "[]"
            ]
          },
          "metadata": {
            "tags": []
          },
          "execution_count": 8
        }
      ]
    },
    {
      "cell_type": "markdown",
      "metadata": {
        "id": "LPySOhKpF33Y"
      },
      "source": [
        "**5.5 Sort List**\n",
        "<br>\n",
        "We  can sort a list alphanumerically using the sort() method. The default is ascending order"
      ]
    },
    {
      "cell_type": "code",
      "metadata": {
        "colab": {
          "base_uri": "https://localhost:8080/"
        },
        "id": "DbIM23pXGL_2",
        "outputId": "2e074e0f-590e-49c3-f2f0-abe53fdf5a79"
      },
      "source": [
        "months_list = [\"sunday\",\"monday\",\"tuesday\",\"wednesday\",\"thursday\",\"friday\",\"saturday\"]\n",
        "months_list.sort()\n",
        "months_list\n"
      ],
      "execution_count": null,
      "outputs": [
        {
          "output_type": "execute_result",
          "data": {
            "text/plain": [
              "['friday', 'monday', 'saturday', 'sunday', 'thursday', 'tuesday', 'wednesday']"
            ]
          },
          "metadata": {
            "tags": []
          },
          "execution_count": 9
        }
      ]
    },
    {
      "cell_type": "code",
      "metadata": {
        "colab": {
          "base_uri": "https://localhost:8080/"
        },
        "id": "lXKL5sfVGvO_",
        "outputId": "b477e197-f6f9-4024-8177-adce1b63afa7"
      },
      "source": [
        "years_list = [1990, 1993, 2012, 1970]\n",
        "years_list.sort()\n",
        "years_list\n"
      ],
      "execution_count": null,
      "outputs": [
        {
          "output_type": "execute_result",
          "data": {
            "text/plain": [
              "[1970, 1990, 1993, 2012]"
            ]
          },
          "metadata": {
            "tags": []
          },
          "execution_count": 10
        }
      ]
    },
    {
      "cell_type": "markdown",
      "metadata": {
        "id": "Mh5s9d4etgTc"
      },
      "source": [
        "Now sorting by descending order, provide reverse = True argument to sort().\n"
      ]
    },
    {
      "cell_type": "code",
      "metadata": {
        "colab": {
          "base_uri": "https://localhost:8080/"
        },
        "id": "QpMZUa5RtmGe",
        "outputId": "a14656d9-2c63-48e4-b04f-12542817ff4d"
      },
      "source": [
        "number_list = [2,3,-4,6,10,200,30]\n",
        "number_list.sort(reverse=True)\n",
        "number_list\n"
      ],
      "execution_count": null,
      "outputs": [
        {
          "output_type": "execute_result",
          "data": {
            "text/plain": [
              "[200, 30, 10, 6, 3, 2, -4]"
            ]
          },
          "metadata": {
            "tags": []
          },
          "execution_count": 1
        }
      ]
    },
    {
      "cell_type": "markdown",
      "metadata": {
        "id": "gkEiSya4uDzl"
      },
      "source": [
        "The sort() method is  case-sensitive by default and the  Capital letters are sorted before small letters."
      ]
    },
    {
      "cell_type": "code",
      "metadata": {
        "colab": {
          "base_uri": "https://localhost:8080/"
        },
        "id": "9R_Lb4TUuJ2X",
        "outputId": "e8640778-ac7d-44af-84db-3fe678994ac1"
      },
      "source": [
        " animals_list = [\"Elephant\",\"dog\",\"cat\",\" Monkey\",\"Tiger\"]\n",
        " animals_list.sort()\n",
        " animals_list   "
      ],
      "execution_count": null,
      "outputs": [
        {
          "output_type": "execute_result",
          "data": {
            "text/plain": [
              "[' Monkey', 'Elephant', 'Tiger', 'cat', 'dog']"
            ]
          },
          "metadata": {
            "tags": []
          },
          "execution_count": 3
        }
      ]
    },
    {
      "cell_type": "markdown",
      "metadata": {
        "id": "yzzzulJZuuI-"
      },
      "source": [
        "If you want  to case-insensitive sort, provide the argument key = str.lower to sort() method in python fundamental concept."
      ]
    },
    {
      "cell_type": "code",
      "metadata": {
        "colab": {
          "base_uri": "https://localhost:8080/"
        },
        "id": "LyBP6xLfu9JM",
        "outputId": "ae3280b6-7f32-4ec4-9f4b-d23d1e07179d"
      },
      "source": [
        " animals_list=[\"Elephant\",\"Dog\",\"cat\",\"Tiger\",\"Monkey\"]\n",
        " animals_list.sort(key = str.lower)\n",
        " animals_list"
      ],
      "execution_count": null,
      "outputs": [
        {
          "output_type": "execute_result",
          "data": {
            "text/plain": [
              "['cat', 'Dog', 'Elephant', 'Monkey', 'Tiger']"
            ]
          },
          "metadata": {
            "tags": []
          },
          "execution_count": 4
        }
      ]
    },
    {
      "cell_type": "markdown",
      "metadata": {
        "id": "DJUjuNn7vYOm"
      },
      "source": [
        "Reverse order,when You can use the reverse() method to reverse the order of items in the list. No\n",
        "sorting."
      ]
    },
    {
      "cell_type": "code",
      "metadata": {
        "colab": {
          "base_uri": "https://localhost:8080/"
        },
        "id": "B7SLcTelvfnQ",
        "outputId": "a4833bf3-b3c8-42dd-8f23-9b3e551990af"
      },
      "source": [
        "my_list = [10,20,30,40,50,60,70,80]\n",
        "my_list.reverse()\n",
        "my_list\n"
      ],
      "execution_count": null,
      "outputs": [
        {
          "output_type": "execute_result",
          "data": {
            "text/plain": [
              "[80, 70, 60, 50, 40, 30, 20, 10]"
            ]
          },
          "metadata": {
            "tags": []
          },
          "execution_count": 9
        }
      ]
    },
    {
      "cell_type": "markdown",
      "metadata": {
        "id": "sK6TPVRQvwlU"
      },
      "source": [
        "**5.6 Make a copy of a list**"
      ]
    },
    {
      "cell_type": "markdown",
      "metadata": {
        "id": "isHRen1Kv_re"
      },
      "source": [
        "When you can make a copy of list then you can use` copy ()` method."
      ]
    },
    {
      "cell_type": "code",
      "metadata": {
        "colab": {
          "base_uri": "https://localhost:8080/"
        },
        "id": "r_lXRroYwQKv",
        "outputId": "e11a8ac2-430f-4ff0-c91e-94c045f07764"
      },
      "source": [
        "list_number = [1,2,3,4,5,\"hello world!\"]\n",
        "copy_of_listnumber = list_number.copy()\n",
        "copy_of_listnumber"
      ],
      "execution_count": null,
      "outputs": [
        {
          "output_type": "execute_result",
          "data": {
            "text/plain": [
              "[1, 2, 3, 4, 5, 'hello world!']"
            ]
          },
          "metadata": {
            "tags": []
          },
          "execution_count": 13
        }
      ]
    },
    {
      "cell_type": "markdown",
      "metadata": {
        "id": "tCtrdQpcw5r6"
      },
      "source": [
        "You can also copy a list using list() method."
      ]
    },
    {
      "cell_type": "code",
      "metadata": {
        "colab": {
          "base_uri": "https://localhost:8080/"
        },
        "id": "6XKEQa6aw9aW",
        "outputId": "1b603147-bf34-4dff-8a1d-5f266c3639cc"
      },
      "source": [
        "my_list = [5,6,7,8]\n",
        "my_list_copy = list(my_list)\n",
        "my_list_copy"
      ],
      "execution_count": null,
      "outputs": [
        {
          "output_type": "execute_result",
          "data": {
            "text/plain": [
              "[5, 6, 7, 8]"
            ]
          },
          "metadata": {
            "tags": []
          },
          "execution_count": 14
        }
      ]
    },
    {
      "cell_type": "markdown",
      "metadata": {
        "id": "VRay-IrbxO-I"
      },
      "source": [
        "**5.7 Join lists**"
      ]
    },
    {
      "cell_type": "markdown",
      "metadata": {
        "id": "5Dx5SSRPxT36"
      },
      "source": [
        "when you can join two lists then you can using the` +` operator."
      ]
    },
    {
      "cell_type": "code",
      "metadata": {
        "colab": {
          "base_uri": "https://localhost:8080/"
        },
        "id": "qB7gTHsuv8AX",
        "outputId": "4b427c06-ec0a-46c3-8f53-2ec50b82aacf"
      },
      "source": [
        "list_1 =[1,2,3,4,5]\n",
        "list_2 = [\"firstname\",\"lastname\"]\n",
        "list_3 = list_1+list_2\n",
        "print(list_3)\n",
        "print(list_1)\n"
      ],
      "execution_count": null,
      "outputs": [
        {
          "output_type": "stream",
          "text": [
            "[1, 2, 3, 4, 5, 'firstname', 'lastname']\n",
            "[1, 2, 3, 4, 5]\n"
          ],
          "name": "stdout"
        }
      ]
    },
    {
      "cell_type": "markdown",
      "metadata": {
        "id": "5VyBrciuyBDI"
      },
      "source": [
        "when you can use the extend () method to add list_2 to at the end of list_1."
      ]
    },
    {
      "cell_type": "code",
      "metadata": {
        "colab": {
          "base_uri": "https://localhost:8080/"
        },
        "id": "gd__vFykyUdI",
        "outputId": "9a1f7190-c45f-4f55-9356-c0b9a7e3b79d"
      },
      "source": [
        "list_1 =[4,5,6]\n",
        "list_2 = [\"hello\",\"world!\"]\n",
        "list_1.extend(list_2)\n",
        "print(list_1)"
      ],
      "execution_count": null,
      "outputs": [
        {
          "output_type": "stream",
          "text": [
            "[4, 5, 6, 'hello', 'world!']\n"
          ],
          "name": "stdout"
        }
      ]
    },
    {
      "cell_type": "markdown",
      "metadata": {
        "id": "KjLLKo9b2UY5"
      },
      "source": [
        "Think about the difference between using the + operator and using the extend()\n",
        "method."
      ]
    },
    {
      "cell_type": "markdown",
      "metadata": {
        "id": "aWF9uJ902h1a"
      },
      "source": [
        "**6 Python Conditionals**\n",
        "<br>\n",
        "**6.1 if Statement**"
      ]
    },
    {
      "cell_type": "markdown",
      "metadata": {
        "id": "bUt1Qy2A2sb9"
      },
      "source": [
        "if conditon is true, when the statement is true then the if condition statement return the true value.<br>\n",
        "Syntax of if Statement:\n",
        "<br>"
      ]
    },
    {
      "cell_type": "code",
      "metadata": {
        "id": "qfgdRDVq2fEb"
      },
      "source": [
        "# if <some condtion>:\n",
        "# code to run only if the condition is true"
      ],
      "execution_count": null,
      "outputs": []
    },
    {
      "cell_type": "markdown",
      "metadata": {
        "id": "H5vBGftN7CgT"
      },
      "source": [
        "**Example of if statement:**"
      ]
    },
    {
      "cell_type": "code",
      "metadata": {
        "colab": {
          "base_uri": "https://localhost:8080/"
        },
        "id": "nVZy2uzz7GCx",
        "outputId": "8de0ea7f-3419-4771-cfab-ab6ecdc00312"
      },
      "source": [
        "# example:\n",
        "a = 9\n",
        "if a>6:\n",
        "  print(\"a is greater than 6\")"
      ],
      "execution_count": null,
      "outputs": [
        {
          "output_type": "stream",
          "text": [
            "a is greater than 6\n"
          ],
          "name": "stdout"
        }
      ]
    },
    {
      "cell_type": "markdown",
      "metadata": {
        "id": "WXElJat_7X6d"
      },
      "source": [
        "Let's see, In the above code a>6 is the condition, which evaluates to either t=True or False.you can use any of the comparions operator we learned ,in the condition.\n",
        "\n",
        "You can also notice the blank spaces (its also called white spaces) before the start of the code right after the if statement. when the  whitespaces are called indentation. \n",
        "\n",
        "you need to indent the line or lines that you want to be part\n",
        "of the if statement. \n",
        "\n",
        "The indentation for all the lines in the if code block needs to be\n",
        "the same.When the define the Indentation the scope of the if block."
      ]
    },
    {
      "cell_type": "code",
      "metadata": {
        "colab": {
          "base_uri": "https://localhost:8080/"
        },
        "id": "V8qrYZMd83Iq",
        "outputId": "3166edf3-9fa0-4de4-91d3-ca20995877c8"
      },
      "source": [
        "a= 20\n",
        "if a > 10:\n",
        "  print('a is greater than 10')\n",
        "  print('Nothing will get printed if the condition is not True')\n"
      ],
      "execution_count": null,
      "outputs": [
        {
          "output_type": "stream",
          "text": [
            "a is greater than 10\n",
            "Nothing will get printed if the condition is not True\n"
          ],
          "name": "stdout"
        }
      ]
    },
    {
      "cell_type": "markdown",
      "metadata": {
        "id": "7dDsrZBb9Qh8"
      },
      "source": [
        "**6.2 elif keyword**\n",
        "<br>\n",
        "An if…else Python statement checks whether a condition is true. If a condition is true, the if statement executes. Otherwise, the else statement executes.\n",
        "\n",
        "\n"
      ]
    },
    {
      "cell_type": "code",
      "metadata": {
        "colab": {
          "background_save": true,
          "base_uri": "https://localhost:8080/",
          "height": 129
        },
        "id": "WlL5qGb59zeA",
        "outputId": "29640a27-28fb-4f11-f9b5-9cdcd725e90d"
      },
      "source": [
        "a = 20\n",
        "if a > 15:\n",
        " print('a is greater than 15')\n",
        "elif x > 10:\n",
        "print('a is greater than 10')\n",
        "elif a > 12.56:\n",
        "print('a is greater than 12.56')"
      ],
      "execution_count": null,
      "outputs": [
        {
          "output_type": "stream",
          "text": [
            "a is greater than 15\n"
          ],
          "name": "stdout"
        }
      ]
    },
    {
      "cell_type": "markdown",
      "metadata": {
        "id": "QlrWJPIbCNRi"
      },
      "source": [
        "**6.3 else keyword**\n",
        "<br>\n",
        "In python, else statement contains the block of code it executes when the if condition statements are false.for example:"
      ]
    },
    {
      "cell_type": "code",
      "metadata": {
        "colab": {
          "base_uri": "https://localhost:8080/"
        },
        "id": "wyxSSmGODZPZ",
        "outputId": "7f5558b3-a504-47a4-b777-fcabe1f82249"
      },
      "source": [
        " # The same code as above with the else keyword at the end\n",
        "a = 10 \n",
        "if a > 15:\n",
        "  print('a is greater than 15')\n",
        "elif a > 20:\n",
        "  print('a is greater than 20')\n",
        "elif a > 10:\n",
        "  print('a is greater than 10')\n",
        "else:\n",
        "  print(\"a is less than or equal to 10\")"
      ],
      "execution_count": null,
      "outputs": [
        {
          "output_type": "stream",
          "text": [
            "a is less than or equal to 10\n"
          ],
          "name": "stdout"
        }
      ]
    },
    {
      "cell_type": "markdown",
      "metadata": {
        "id": "PezQyy6vCO2P"
      },
      "source": [
        "**6.4 Short-hand if**\n",
        "<br>\n",
        "Shorthand if and if else is nothing but a way to write the if statements in one line when we have only one statement to execute in the if block and the else block.\n",
        "\n",
        "An example for shorthand if in Python:"
      ]
    },
    {
      "cell_type": "code",
      "metadata": {
        "colab": {
          "base_uri": "https://localhost:8080/"
        },
        "id": "W2YSBQoJERFp",
        "outputId": "796cd6f8-f9f8-4deb-e0a9-2c8b8cbd9ed7"
      },
      "source": [
        "a = 4\n",
        "b = 2\n",
        "if a>b:print(\"a is greater than b\")"
      ],
      "execution_count": null,
      "outputs": [
        {
          "output_type": "stream",
          "text": [
            "a is greater than b\n"
          ],
          "name": "stdout"
        }
      ]
    },
    {
      "cell_type": "markdown",
      "metadata": {
        "id": "jQvj6uDnEkJ7"
      },
      "source": [
        "An example for shorthand of state else condition:"
      ]
    },
    {
      "cell_type": "code",
      "metadata": {
        "colab": {
          "base_uri": "https://localhost:8080/"
        },
        "id": "1sOsJVXcEk-a",
        "outputId": "8e6dc0de-67ee-448f-c6d1-c2bee06891f3"
      },
      "source": [
        "a = 4\n",
        "b = 2\n",
        "print(\"a is greater\")if a>b else print (\"b is greater\")"
      ],
      "execution_count": null,
      "outputs": [
        {
          "output_type": "stream",
          "text": [
            "a is greater\n"
          ],
          "name": "stdout"
        }
      ]
    },
    {
      "cell_type": "markdown",
      "metadata": {
        "id": "M4SN52jXE-oK"
      },
      "source": [
        "**6.5 Short-hand if - elif**\n",
        "<br>\n",
        "You can put if - else code block in one line as well.\n",
        "For example:"
      ]
    },
    {
      "cell_type": "code",
      "metadata": {
        "colab": {
          "base_uri": "https://localhost:8080/"
        },
        "id": "SD8j2D4XFYB7",
        "outputId": "bd7046c7-5d5d-4169-b9bc-969cccea5d3f"
      },
      "source": [
        "a=3\n",
        "print(\"a is equal to 3\") if a == 3 else print(\"a is not equal to 3\")"
      ],
      "execution_count": null,
      "outputs": [
        {
          "output_type": "stream",
          "text": [
            "a is equal to 3\n"
          ],
          "name": "stdout"
        }
      ]
    },
    {
      "cell_type": "markdown",
      "metadata": {
        "id": "5aWje5X2Fm7S"
      },
      "source": [
        "**6.6 Nested if**\n",
        "<br>\n",
        "We use nested if statements when we need to check secondary conditions only if the first condition executes as true.\n",
        "<br>We use nested if statements when we need to check secondary conditions only if the first condition executes as true."
      ]
    },
    {
      "cell_type": "code",
      "metadata": {
        "colab": {
          "base_uri": "https://localhost:8080/"
        },
        "id": "MKXf_EMYF16h",
        "outputId": "218fcfa8-2c8b-4e74-c3b3-a5967c24cbac"
      },
      "source": [
        "a = 20\n",
        "if a > 15:\n",
        " print(\"a is greater than 15\")\n",
        "if a < 17:\n",
        "   print(\"but it is less than 10\")\n",
        "else:\n",
        " print(\"and it is greater than 20 as well\")\n"
      ],
      "execution_count": null,
      "outputs": [
        {
          "output_type": "stream",
          "text": [
            "a is greater than 15\n",
            "and it is greater than 20 as well\n"
          ],
          "name": "stdout"
        }
      ]
    },
    {
      "cell_type": "markdown",
      "metadata": {
        "id": "WmD_xSZitIPj"
      },
      "source": [
        "#Python loop\n",
        "\n",
        "Python has two loop commands:\n",
        "* while\n",
        "* for"
      ]
    },
    {
      "cell_type": "markdown",
      "metadata": {
        "id": "WVmE37CZt3FR"
      },
      "source": [
        "**6.7 while loop**<br>\n",
        "A while loop statement in Python programming language repeatedly executes a target statement as long as a given condition is true.\n",
        "<br>\n",
        "Syntax:\n",
        "<br>\n",
        "The syntax of a while loop in Python programming language is −\n",
        "<br>\n",
        "\n",
        "\n",
        "\n",
        "\n",
        "\n"
      ]
    },
    {
      "cell_type": "code",
      "metadata": {
        "id": "h0KMW74StWeZ"
      },
      "source": [
        "# while expression:\n",
        "#    statement(s)\n"
      ],
      "execution_count": null,
      "outputs": []
    },
    {
      "cell_type": "code",
      "metadata": {
        "colab": {
          "base_uri": "https://localhost:8080/"
        },
        "id": "PNg2cqvvugya",
        "outputId": "b3682536-a06e-4ce9-c561-f71ccaa01684"
      },
      "source": [
        "# for example:\n",
        "\n",
        "count = 0\n",
        "while (count < 9):\n",
        "   print ('The count is:', count)\n",
        "   count = count + 1\n",
        "\n",
        "print (\"Good bye!\")"
      ],
      "execution_count": null,
      "outputs": [
        {
          "output_type": "stream",
          "text": [
            "The count is: 0\n",
            "The count is: 1\n",
            "The count is: 2\n",
            "The count is: 3\n",
            "The count is: 4\n",
            "The count is: 5\n",
            "The count is: 6\n",
            "The count is: 7\n",
            "The count is: 8\n",
            "Good bye!\n"
          ],
          "name": "stdout"
        }
      ]
    },
    {
      "cell_type": "markdown",
      "metadata": {
        "id": "XFTSNDPauWxS"
      },
      "source": [
        "**6.7.1 break statement**<br>\n",
        "The break statement breaks the loop and the execution exits the loop"
      ]
    },
    {
      "cell_type": "code",
      "metadata": {
        "colab": {
          "background_save": true
        },
        "id": "Z8zymWEOu2Kd"
      },
      "source": [
        "x = 0\n",
        "while x < 10:\n",
        " print(x)\n",
        "x += 1\n",
        "if x == 4:\n",
        " break"
      ],
      "execution_count": null,
      "outputs": []
    },
    {
      "cell_type": "markdown",
      "metadata": {
        "id": "4NvbmzCrvPIj"
      },
      "source": [
        "**6.7.2 continue statement**<br>\n",
        "The continue statement rejects all the remaining statements in the current iteration of the loop and moves the control back to the top of the loop.\n",
        "\n",
        "The continue statement can be used in both while and for loops.\n"
      ]
    },
    {
      "cell_type": "code",
      "metadata": {
        "colab": {
          "base_uri": "https://localhost:8080/"
        },
        "id": "JE7TcTCYOX0E",
        "outputId": "262d9eec-4bb4-4407-8da4-e6711e185d9c"
      },
      "source": [
        "for letter in 'Python':     # First Example\n",
        "   if letter == 'h':\n",
        "      continue\n",
        "   print ('Current Letter:',letter)\n",
        "\n",
        "var = 7                    # Second Example\n",
        "while var > 0:              \n",
        "   var = var -1\n",
        "   if var == 5:\n",
        "      continue\n",
        "   print ('Current variable value :', var)\n",
        "print(\"Good bye!\")"
      ],
      "execution_count": null,
      "outputs": [
        {
          "output_type": "stream",
          "text": [
            "Current Letter: P\n",
            "Current Letter: y\n",
            "Current Letter: t\n",
            "Current Letter: o\n",
            "Current Letter: n\n",
            "Current variable value : 6\n",
            "Current variable value : 4\n",
            "Current variable value : 3\n",
            "Current variable value : 2\n",
            "Current variable value : 1\n",
            "Current variable value : 0\n",
            "Good bye!\n"
          ],
          "name": "stdout"
        }
      ]
    },
    {
      "cell_type": "markdown",
      "metadata": {
        "id": "wPPjLMsCQNvh"
      },
      "source": [
        "**6.8 for loop**\n",
        "<br>\n",
        "It has the ability to iterate over the items of any sequence, such as a list or a string.<br>\n",
        "Syntax:"
      ]
    },
    {
      "cell_type": "code",
      "metadata": {
        "id": "P_TtqenyQp8U"
      },
      "source": [
        "# for iterating_var in sequence:\n",
        "#    statements(s)"
      ],
      "execution_count": null,
      "outputs": []
    },
    {
      "cell_type": "markdown",
      "metadata": {
        "id": "MTU_crohQuRn"
      },
      "source": [
        "For example:"
      ]
    },
    {
      "cell_type": "code",
      "metadata": {
        "colab": {
          "base_uri": "https://localhost:8080/"
        },
        "id": "jK4na5DqQxhV",
        "outputId": "d4e3abbf-8091-40ae-98ea-654589c23ff9"
      },
      "source": [
        "for letter in 'python':                        #first example\n",
        "  print('current Letter:',letter)\n",
        "\n",
        "fruits = ['banana','apple','orange']\n",
        "for fruit in fruits:                           #second eample\n",
        "  print('current fruit :',fruit)\n",
        "\n",
        "print(\"good bye!take care\")\n"
      ],
      "execution_count": null,
      "outputs": [
        {
          "output_type": "stream",
          "text": [
            "current Letter: p\n",
            "current Letter: y\n",
            "current Letter: t\n",
            "current Letter: h\n",
            "current Letter: o\n",
            "current Letter: n\n",
            "current fruit : banana\n",
            "current fruit : apple\n",
            "current fruit : orange\n",
            "good bye!take care\n"
          ],
          "name": "stdout"
        }
      ]
    },
    {
      "cell_type": "markdown",
      "metadata": {
        "id": "CqC4fGS4RuYN"
      },
      "source": [
        "**6.9 The range() function**\n",
        "<br>\n",
        "The range() function returns a sequence of numbers starting with 0 (by default) and incremented by 1 (by default) up to the number less than one provided as argument.\n"
      ]
    },
    {
      "cell_type": "code",
      "metadata": {
        "colab": {
          "base_uri": "https://localhost:8080/"
        },
        "id": "qBxkNjNwSF8R",
        "outputId": "cb33c40a-fb90-4797-cc7d-b2e12b01e71f"
      },
      "source": [
        "# printing a number\n",
        "for i in range(10):\n",
        "    print(i, end =\" \")\n",
        "print()"
      ],
      "execution_count": null,
      "outputs": [
        {
          "output_type": "stream",
          "text": [
            "0 1 2 3 4 5 6 7 8 9 \n"
          ],
          "name": "stdout"
        }
      ]
    },
    {
      "cell_type": "markdown",
      "metadata": {
        "id": "C4XMadb_SPMg"
      },
      "source": [
        "**6.10 Nested loop** \n",
        "<br>You can put a loop inside a loop, which is called a nested loop.<br>\n",
        "Syntax:\n"
      ]
    },
    {
      "cell_type": "code",
      "metadata": {
        "colab": {
          "base_uri": "https://localhost:8080/"
        },
        "id": "GEveVjTjV-2M",
        "outputId": "9d96548a-708b-405b-e1b2-d48c9240f8ce"
      },
      "source": [
        "colors = ['red', 'yellow', 'green']\n",
        "objects = ['apple', 'banana', 'mango']\n",
        "for i in colors:\n",
        " for j in objects:\n",
        "  print(i, j)"
      ],
      "execution_count": null,
      "outputs": [
        {
          "output_type": "stream",
          "text": [
            "red apple\n",
            "red banana\n",
            "red mango\n",
            "yellow apple\n",
            "yellow banana\n",
            "yellow mango\n",
            "green apple\n",
            "green banana\n",
            "green mango\n"
          ],
          "name": "stdout"
        }
      ]
    },
    {
      "cell_type": "markdown",
      "metadata": {
        "id": "K9uqQukQW5w_"
      },
      "source": [
        "**7 Python Functions**\n",
        "<br>\n",
        "function is a block of organized, reusable code that is used to perform a single, related action. Functions provide better modularity for your application and a high degree of code reusing.\n",
        "<br>\n",
        "You can define functions to provide the required functionality"
      ]
    },
    {
      "cell_type": "markdown",
      "metadata": {
        "id": "Wglm3Yq0XgT1"
      },
      "source": [
        "**7.1 Creating a function**\n",
        "<br>\n",
        "when you can create a python funtion then you need to use the `keyword def`."
      ]
    },
    {
      "cell_type": "code",
      "metadata": {
        "colab": {
          "base_uri": "https://localhost:8080/"
        },
        "id": "ANK3bWYfYIPt",
        "outputId": "0f395404-77de-401b-d498-d39c16e95f5d"
      },
      "source": [
        " # function definition\n",
        "def add(a,b): # here 'add' is the function name; a and b are parameters\n",
        "  return a+b # the function returns the sum of a and b\n",
        "# calling the function\n",
        "add(2,3) # here 2 and 3 are inputs to the function which are known as arguments"
      ],
      "execution_count": null,
      "outputs": [
        {
          "output_type": "execute_result",
          "data": {
            "text/plain": [
              "5"
            ]
          },
          "metadata": {
            "tags": []
          },
          "execution_count": 21
        }
      ]
    },
    {
      "cell_type": "markdown",
      "metadata": {
        "id": "zP8FUON6YcyW"
      },
      "source": [
        "**Parameters vs. Argument:**\n",
        "<br>\n",
        "**parameter:**<br>A parameter is the variable defined within the parentheses during function definition. Simply they are written when we declare a function.<br>\n",
        "**Argument:**\n",
        "<br>\n",
        "An argument is a value that is passed to a function when it is called. It might be a variable, value or object passed to a function or method as input. They are written when we are calling the function."
      ]
    },
    {
      "cell_type": "code",
      "metadata": {
        "id": "AszkOx9abIn1"
      },
      "source": [
        " add(2) #  we are passing one,argument, so get an error.\n"
      ],
      "execution_count": null,
      "outputs": []
    },
    {
      "cell_type": "code",
      "metadata": {
        "id": "Fl-lVMtNbUfe"
      },
      "source": [
        " add(1,2,3) # However, we are passing more,than 2 arguments, so we get an error. add function expects 2 arguments.\n"
      ],
      "execution_count": null,
      "outputs": []
    },
    {
      "cell_type": "markdown",
      "metadata": {
        "id": "wcflC8vWbioa"
      },
      "source": [
        "\n",
        "7.2 Arbitrary arguments (*args)<br>\n",
        "If you do not know in advance how many arguments will be passed, you can define a function with\n",
        "arbitrary arguments by adding an * (asterisk) before the parameter name."
      ]
    },
    {
      "cell_type": "code",
      "metadata": {
        "colab": {
          "base_uri": "https://localhost:8080/"
        },
        "id": "7BwJf4bdc8pB",
        "outputId": "2c88af44-a627-4032-9fcb-68fee5663e78"
      },
      "source": [
        "def add(*nums):\n",
        "  sum = 0\n",
        "  for i in nums:\n",
        "    sum += i\n",
        "  return sum\n",
        "add(1,22,55,30) "
      ],
      "execution_count": null,
      "outputs": [
        {
          "output_type": "execute_result",
          "data": {
            "text/plain": [
              "108"
            ]
          },
          "metadata": {
            "tags": []
          },
          "execution_count": 40
        }
      ]
    },
    {
      "cell_type": "markdown",
      "metadata": {
        "id": "r4BTGF1JeKal"
      },
      "source": [
        "**7.3 Default parameter value**\n",
        "<br>\n",
        "Python has a different way of representing syntax and default values for function arguments. Default values indicate that the function argument will take that value if no argument value is passed during the function call. The default value is assigned by using the assignment(=) operator of the form keywordname=value."
      ]
    },
    {
      "cell_type": "code",
      "metadata": {
        "colab": {
          "base_uri": "https://localhost:8080/"
        },
        "id": "Y84E7YpLduC2",
        "outputId": "82dc14ad-72e4-4b6d-a24f-07ceb8321f34"
      },
      "source": [
        "def multiply(x, y=3):\n",
        "  return x*y\n",
        "multiply(4) # we did not pass the argument value for y, so y took the default,value of 3 as defined in the function"
      ],
      "execution_count": null,
      "outputs": [
        {
          "output_type": "execute_result",
          "data": {
            "text/plain": [
              "12"
            ]
          },
          "metadata": {
            "tags": []
          },
          "execution_count": 41
        }
      ]
    },
    {
      "cell_type": "code",
      "metadata": {
        "colab": {
          "base_uri": "https://localhost:8080/"
        },
        "id": "Hu3pIVxwd5l_",
        "outputId": "fea85da2-44f6-4c2d-86eb-0bc87be93ba4"
      },
      "source": [
        " multiply(4,5) # we provided the argument value for y, so the default value is,overridden with the value provided.\n"
      ],
      "execution_count": null,
      "outputs": [
        {
          "output_type": "execute_result",
          "data": {
            "text/plain": [
              "20"
            ]
          },
          "metadata": {
            "tags": []
          },
          "execution_count": 42
        }
      ]
    },
    {
      "cell_type": "markdown",
      "metadata": {
        "id": "9K2UpPHoX67Y"
      },
      "source": [
        "when you can defining function  with default parameter values, make sure that you put them after non default parameter."
      ]
    },
    {
      "cell_type": "code",
      "metadata": {
        "id": "BHCp3i6Pf5Uv"
      },
      "source": [
        "def subtract(x=5,y):\n",
        "return x-y\n",
        "subtract(3 # returns error, since 4 is assumed to be the value for x, and consequently it is as if y value is not provided.\n"
      ],
      "execution_count": null,
      "outputs": []
    },
    {
      "cell_type": "markdown",
      "metadata": {
        "id": "3Oe1bfzriFUl"
      },
      "source": [
        "**7.4 Lambda Functions**\n",
        "<br>\n",
        "A Lambda Function in Python programming is  a function having no name. It is a small and restricted function having no more than one line. Just like a normal function, a Lambda function can have multiple arguments with one expression."
      ]
    },
    {
      "cell_type": "code",
      "metadata": {
        "colab": {
          "base_uri": "https://localhost:8080/"
        },
        "id": "xlpjdGt0izkM",
        "outputId": "ab70436f-354d-4bc9-deb5-6dc4f225ebc1"
      },
      "source": [
        "sum = lambda x,y,z: x+y+z # lambda function defined and assigned to a variable ,'sum'\n",
        "sum(6,7,8) # 'sum' lambda function called with  argument"
      ],
      "execution_count": null,
      "outputs": [
        {
          "output_type": "execute_result",
          "data": {
            "text/plain": [
              "21"
            ]
          },
          "metadata": {
            "tags": []
          },
          "execution_count": 43
        }
      ]
    },
    {
      "cell_type": "markdown",
      "metadata": {
        "id": "1t_Xd_anjFue"
      },
      "source": [
        "**8 Python Tuples**\n",
        "<br>\n",
        "Tuples:\n",
        "<br>\n",
        "*  A tuple is a collection of objects which ordered and immutable. \n",
        "*  Tuples are sequences, just like lists. \n",
        "*  The differences between tuples and lists are, the tuples cannot be changed unlike lists and tuples use parentheses, whereas lists use square brackets\n",
        "*  are enclosed by parentheses ()\n",
        "*  can store multiple values in a single variable\n",
        "*   allow duplicate values\n",
        "<br>\n",
        "for example:\n",
        "\n"
      ]
    },
    {
      "cell_type": "code",
      "metadata": {
        "colab": {
          "base_uri": "https://localhost:8080/"
        },
        "id": "FpWID9knj2WS",
        "outputId": "a107a242-18dd-4a20-c57a-32becf104675"
      },
      "source": [
        "my_tuple = (\"hello\",\"good morning\",6,7)\n",
        "my_tuple"
      ],
      "execution_count": null,
      "outputs": [
        {
          "output_type": "execute_result",
          "data": {
            "text/plain": [
              "('hello', 'good morning', 6, 7)"
            ]
          },
          "metadata": {
            "tags": []
          },
          "execution_count": 44
        }
      ]
    },
    {
      "cell_type": "markdown",
      "metadata": {
        "id": "nrNCMuiZkSEn"
      },
      "source": [
        "Python Tuple items are indexed starting from 0,and so on.."
      ]
    },
    {
      "cell_type": "code",
      "metadata": {
        "id": "QTGRlEDXkK72"
      },
      "source": [
        "print(my_tuple[0])\n",
        "print(my_tuple[1])\n",
        "print(my_tuple[2])"
      ],
      "execution_count": null,
      "outputs": []
    },
    {
      "cell_type": "code",
      "metadata": {
        "id": "ThzPAgCwkbt4"
      },
      "source": [
        "# tuple allowed duplicate items.\n",
        "tuple_1 = (90, 22, \"banana\", \"mango\", \"banana\",\"papaya\")"
      ],
      "execution_count": null,
      "outputs": []
    },
    {
      "cell_type": "code",
      "metadata": {
        "colab": {
          "base_uri": "https://localhost:8080/"
        },
        "id": "etaS7Ckxkz5G",
        "outputId": "9f8a1960-724f-4478-f7c3-1bc60a929ea8"
      },
      "source": [
        "# length (number of items in tuple)\n",
        "len(tuple_1)\n"
      ],
      "execution_count": null,
      "outputs": [
        {
          "output_type": "execute_result",
          "data": {
            "text/plain": [
              "6"
            ]
          },
          "metadata": {
            "tags": []
          },
          "execution_count": 50
        }
      ]
    },
    {
      "cell_type": "code",
      "metadata": {
        "colab": {
          "base_uri": "https://localhost:8080/"
        },
        "id": "LsuuoqwMlEp1",
        "outputId": "613eeac4-3660-4ea4-b346-56efb0fee17e"
      },
      "source": [
        "tuple_1element = (\"good morning!\") # without a comma after the element in one-element,tuple, you will not get a tuple type\n",
        "type(tuple_1element)\n"
      ],
      "execution_count": null,
      "outputs": [
        {
          "output_type": "execute_result",
          "data": {
            "text/plain": [
              "str"
            ]
          },
          "metadata": {
            "tags": []
          },
          "execution_count": 51
        }
      ]
    },
    {
      "cell_type": "code",
      "metadata": {
        "colab": {
          "base_uri": "https://localhost:8080/"
        },
        "id": "gLXPmvH-lSOi",
        "outputId": "444a48d1-1eab-4093-ba80-50a6efbbd8f2"
      },
      "source": [
        "tuple_1element = (\"good morning!\",) # put a comma after the element in one-element tuple\n",
        "type(tuple_1element)"
      ],
      "execution_count": null,
      "outputs": [
        {
          "output_type": "execute_result",
          "data": {
            "text/plain": [
              "tuple"
            ]
          },
          "metadata": {
            "tags": []
          },
          "execution_count": 52
        }
      ]
    },
    {
      "cell_type": "markdown",
      "metadata": {
        "id": "ZG6zCzvUlfRD"
      },
      "source": [
        "tuple items with indexing, negative indexing, range of indexes work just like in Lists:"
      ]
    },
    {
      "cell_type": "code",
      "metadata": {
        "colab": {
          "base_uri": "https://localhost:8080/"
        },
        "id": "k7HbJt_0lkS9",
        "outputId": "0a105256-3dd5-4726-f7ff-4c3af78aa619"
      },
      "source": [
        "my_tuple=(\"hello\",\"Good Morning\",10,20,30,40)\n",
        "print(\"my_tuple[0]=> \",my_tuple[0]) #print the first element\n",
        "print(\"my_tuple[-1] =>\",my_tuple[-1]) # last element of the tuple\n",
        "print(\"my_tuple[1:3] =>\",my_tuple[1:3]) # elements at index 1 (second element),up to index 2 (3rd element) - excluding index 3\n",
        "print(\"my_tuple[-3: -2] =>\",my_tuple[-3: -2]) # element at index -3 up to index,-2 (excluding -2)\n",
        "print(\"my_tuple[:2] =>\",my_tuple[:2]) # elements from index 0 up to index 1\n",
        "print(\"my_tuple[2:] =>\",my_tuple[2:]) # elements from index 2 to en"
      ],
      "execution_count": null,
      "outputs": [
        {
          "output_type": "stream",
          "text": [
            "my_tuple[0]=>  hello\n",
            "my_tuple[-1] => 40\n",
            "my_tuple[1:3] => ('Good Morning', 10)\n",
            "my_tuple[-3: -2] => (20,)\n",
            "my_tuple[:2] => ('hello', 'Good Morning')\n",
            "my_tuple[2:] => (10, 20, 30, 40)\n"
          ],
          "name": "stdout"
        }
      ]
    },
    {
      "cell_type": "markdown",
      "metadata": {
        "id": "yrQONYo_mgVy"
      },
      "source": [
        "You can not add items, update items, or remove items from a tuple.\n",
        "<br>\n",
        "You can delete a tuple with the del keyword"
      ]
    },
    {
      "cell_type": "code",
      "metadata": {
        "colab": {
          "base_uri": "https://localhost:8080/",
          "height": 180
        },
        "id": "MKJaO2Pcmo3-",
        "outputId": "eb618d1c-e083-4f12-95ea-bbc81af2a006"
      },
      "source": [
        "del my_tuple\n",
        "my_tuple # deleted,\n"
      ],
      "execution_count": null,
      "outputs": [
        {
          "output_type": "error",
          "ename": "NameError",
          "evalue": "ignored",
          "traceback": [
            "\u001b[0;31m---------------------------------------------------------------------------\u001b[0m",
            "\u001b[0;31mNameError\u001b[0m                                 Traceback (most recent call last)",
            "\u001b[0;32m<ipython-input-57-1aee598ea2ab>\u001b[0m in \u001b[0;36m<module>\u001b[0;34m()\u001b[0m\n\u001b[0;32m----> 1\u001b[0;31m \u001b[0;32mdel\u001b[0m \u001b[0mmy_tuple\u001b[0m\u001b[0;34m\u001b[0m\u001b[0;34m\u001b[0m\u001b[0m\n\u001b[0m\u001b[1;32m      2\u001b[0m \u001b[0mmy_tuple\u001b[0m \u001b[0;31m# deleted,\u001b[0m\u001b[0;34m\u001b[0m\u001b[0;34m\u001b[0m\u001b[0m\n",
            "\u001b[0;31mNameError\u001b[0m: name 'my_tuple' is not defined"
          ]
        }
      ]
    },
    {
      "cell_type": "markdown",
      "metadata": {
        "id": "R_gZaBBinEbi"
      },
      "source": [
        "**8.1 Unpack Tuples**\n",
        "<br>\n",
        "We can extract the values in tuples to variables, which is called “unpacking”.\n"
      ]
    },
    {
      "cell_type": "code",
      "metadata": {
        "colab": {
          "base_uri": "https://localhost:8080/"
        },
        "id": "dzYtYz7Qnsvv",
        "outputId": "ee3ec152-9195-41e1-c206-1f1c60edd861"
      },
      "source": [
        "#  to provide as many variables as there are values in the tuple\n",
        "student1, student2, student3 = (\"Sam\", \"Harry\", \"Tom\")\n",
        "print(student1)\n",
        "print(student2)\n",
        "print(student3)"
      ],
      "execution_count": null,
      "outputs": [
        {
          "output_type": "stream",
          "text": [
            "Sam\n",
            "Harry\n",
            "Tom\n"
          ],
          "name": "stdout"
        }
      ]
    },
    {
      "cell_type": "markdown",
      "metadata": {
        "id": "utJ3ZgDSn8O7"
      },
      "source": [
        "**8.2 Loop through a tuple**\n",
        "<br>\n",
        "You can loop through the tuple items by using a for loop."
      ]
    },
    {
      "cell_type": "code",
      "metadata": {
        "colab": {
          "base_uri": "https://localhost:8080/"
        },
        "id": "iL4dGbU9oWsh",
        "outputId": "108c19a8-5493-4d67-aa76-ee08e28b4742"
      },
      "source": [
        "my_tuple = (\"This\",\"is\",\"a\",\"example\",\"of\",\"loop\",\"through\",\"a\",\"tuple\")\n",
        "for item in my_tuple:\n",
        "  print(item)"
      ],
      "execution_count": null,
      "outputs": [
        {
          "output_type": "stream",
          "text": [
            "This\n",
            "is\n",
            "a\n",
            "example\n",
            "of\n",
            "loop\n",
            "through\n",
            "a\n",
            "tuple\n"
          ],
          "name": "stdout"
        }
      ]
    },
    {
      "cell_type": "markdown",
      "metadata": {
        "id": "_dtZJKlio_ev"
      },
      "source": [
        "**8.3 Join tuples**\n",
        "<br>The join function can be used to join each tuple elements with each other."
      ]
    },
    {
      "cell_type": "code",
      "metadata": {
        "colab": {
          "base_uri": "https://localhost:8080/"
        },
        "id": "quh4Uzq4poVm",
        "outputId": "b51340fd-c1b8-43a8-b8cc-8561f1ac1e1b"
      },
      "source": [
        "tuple_1 = (10,20,30)\n",
        "tuple_2 = (40,50,60)\n",
        "tuple_3 = (70,80,90)\n",
        "print(tuple_1 + tuple_2)\n",
        "print(tuple_1 + tuple_2 + tuple_3)"
      ],
      "execution_count": null,
      "outputs": [
        {
          "output_type": "stream",
          "text": [
            "(10, 20, 30, 40, 50, 60)\n",
            "(10, 20, 30, 40, 50, 60, 70, 80, 90)\n"
          ],
          "name": "stdout"
        }
      ]
    },
    {
      "cell_type": "markdown",
      "metadata": {
        "id": "XNr_apLYp3-L"
      },
      "source": [
        "**8.4 Multiply tuples**\n",
        "<br>\n",
        " multiply the elements of the tuple and return list of the multiplied elements.You can multiply a tuple and an integer with a * operator.\n"
      ]
    },
    {
      "cell_type": "code",
      "metadata": {
        "colab": {
          "base_uri": "https://localhost:8080/"
        },
        "id": "i19wqq8dqPvy",
        "outputId": "f3305847-843f-46c5-fcc2-9786b62ed20d"
      },
      "source": [
        " (1,2,3) * 5"
      ],
      "execution_count": null,
      "outputs": [
        {
          "output_type": "execute_result",
          "data": {
            "text/plain": [
              "(1, 2, 3, 1, 2, 3, 1, 2, 3, 1, 2, 3, 1, 2, 3)"
            ]
          },
          "metadata": {
            "tags": []
          },
          "execution_count": 67
        }
      ]
    },
    {
      "cell_type": "markdown",
      "metadata": {
        "id": "puHIpJPhqemJ"
      },
      "source": [
        "**9 Python Sets**\n",
        "<br>\n",
        "Mathematically a set is a collection of items not in any particular order. A Python set is similar to this mathematical definition with below additional conditions.\n",
        "\n",
        "*  The elements in the set cannot be duplicates.\n",
        "*  The elements in the set are immutable(cannot be modified) but the set as a whole is mutable.\n",
        "*  There is no index attached to any\n",
        "*  enclosed by curly braces {}\n",
        " "
      ]
    },
    {
      "cell_type": "code",
      "metadata": {
        "colab": {
          "base_uri": "https://localhost:8080/"
        },
        "id": "8w3vgYpezzta",
        "outputId": "6e43452c-e472-4aba-f941-bb2dc6b96df2"
      },
      "source": [
        "# use curly braces {} to define a set\n",
        "my_set = {\"Hello\", 67, 5.65, \"Flase\"}\n",
        "my_set"
      ],
      "execution_count": null,
      "outputs": [
        {
          "output_type": "execute_result",
          "data": {
            "text/plain": [
              "{5.65, 67, 'Flase', 'Hello'}"
            ]
          },
          "metadata": {
            "tags": []
          },
          "execution_count": 68
        }
      ]
    },
    {
      "cell_type": "code",
      "metadata": {
        "colab": {
          "base_uri": "https://localhost:8080/"
        },
        "id": "QQYRLqJQ0Q0h",
        "outputId": "3ff07bc1-659a-40be-cc22-7f8d45a70487"
      },
      "source": [
        " # length (number of items) of a set\n",
        "len(my_set)"
      ],
      "execution_count": null,
      "outputs": [
        {
          "output_type": "execute_result",
          "data": {
            "text/plain": [
              "4"
            ]
          },
          "metadata": {
            "tags": []
          },
          "execution_count": 74
        }
      ]
    },
    {
      "cell_type": "markdown",
      "metadata": {
        "id": "HAe5cCK10Ter"
      },
      "source": [
        "**9.1 Access Set items**\n",
        "<br>\n",
        "You can loop through a set to access the items of the set."
      ]
    },
    {
      "cell_type": "code",
      "metadata": {
        "colab": {
          "base_uri": "https://localhost:8080/"
        },
        "id": "VJl2N9p80d4a",
        "outputId": "c9f214d9-57d0-4c8b-e217-ed8749a1be40"
      },
      "source": [
        "for i in my_set:\n",
        " print(i)"
      ],
      "execution_count": null,
      "outputs": [
        {
          "output_type": "stream",
          "text": [
            "67\n",
            "5.65\n",
            "Flase\n",
            "Hello\n"
          ],
          "name": "stdout"
        }
      ]
    },
    {
      "cell_type": "markdown",
      "metadata": {
        "id": "icIoLPj91JHa"
      },
      "source": [
        "You can check if a particular item is in the set by using the in keyword."
      ]
    },
    {
      "cell_type": "code",
      "metadata": {
        "colab": {
          "base_uri": "https://localhost:8080/"
        },
        "id": "d-P__n4A1Ml9",
        "outputId": "64f82d9d-30e3-4acd-ab46-0cebe2d53969"
      },
      "source": [
        " 1 in my_set\n"
      ],
      "execution_count": null,
      "outputs": [
        {
          "output_type": "execute_result",
          "data": {
            "text/plain": [
              "False"
            ]
          },
          "metadata": {
            "tags": []
          },
          "execution_count": 76
        }
      ]
    },
    {
      "cell_type": "code",
      "metadata": {
        "colab": {
          "base_uri": "https://localhost:8080/"
        },
        "id": "XrALjjAG1DFU",
        "outputId": "100e4636-6d76-4652-b259-4bb2b9c186d9"
      },
      "source": [
        "\"Hello\" in my_set\n"
      ],
      "execution_count": null,
      "outputs": [
        {
          "output_type": "execute_result",
          "data": {
            "text/plain": [
              "True"
            ]
          },
          "metadata": {
            "tags": []
          },
          "execution_count": 78
        }
      ]
    },
    {
      "cell_type": "markdown",
      "metadata": {
        "id": "0AU5NnNT1fz5"
      },
      "source": [
        "**9.2 Add items to set**\n",
        "<br>\n",
        "when You can not change the items already in a set, however, you can add items to the set by using the\n",
        "add() method\n"
      ]
    },
    {
      "cell_type": "code",
      "metadata": {
        "colab": {
          "base_uri": "https://localhost:8080/"
        },
        "id": "TkPy48fu4W2s",
        "outputId": "4a917358-2189-4366-f44d-fc67b955369a"
      },
      "source": [
        "my_set = {1,2,3}\n",
        "my_set.add(\"python programming\")\n",
        "my_set"
      ],
      "execution_count": null,
      "outputs": [
        {
          "output_type": "execute_result",
          "data": {
            "text/plain": [
              "{1, 2, 3, 'python programming'}"
            ]
          },
          "metadata": {
            "tags": []
          },
          "execution_count": 79
        }
      ]
    },
    {
      "cell_type": "markdown",
      "metadata": {
        "id": "Wf5g3TT64qSg"
      },
      "source": [
        "You can add items from another set by using the update() method."
      ]
    },
    {
      "cell_type": "code",
      "metadata": {
        "colab": {
          "base_uri": "https://localhost:8080/"
        },
        "id": "UpCLPlT-4uoF",
        "outputId": "ca836e6a-5a6b-430e-d56d-654b33be66c0"
      },
      "source": [
        "your_set = {\"Hi\", \"there\"}\n",
        "my_set.update(your_set)\n",
        "my_set"
      ],
      "execution_count": null,
      "outputs": [
        {
          "output_type": "execute_result",
          "data": {
            "text/plain": [
              "{1, 2, 3, 'Hi', 'python programming', 'there'}"
            ]
          },
          "metadata": {
            "tags": []
          },
          "execution_count": 80
        }
      ]
    },
    {
      "cell_type": "markdown",
      "metadata": {
        "id": "pYlelB-l4rGj"
      },
      "source": [
        "The update() method can take a list, and a tuple, or a dictionary.\n",
        "\n"
      ]
    },
    {
      "cell_type": "code",
      "metadata": {
        "colab": {
          "base_uri": "https://localhost:8080/"
        },
        "id": "kU9P5YRL7WrL",
        "outputId": "e8275824-9bf9-40df-af30-b3cf354b5e42"
      },
      "source": [
        "# using update() with a list\n",
        "my_set = {10,20}\n",
        "lst = [\"apple\", \"banana\"]\n",
        "my_set.update(lst)\n",
        "my_set"
      ],
      "execution_count": null,
      "outputs": [
        {
          "output_type": "execute_result",
          "data": {
            "text/plain": [
              "{10, 20, 'apple', 'banana'}"
            ]
          },
          "metadata": {
            "tags": []
          },
          "execution_count": 81
        }
      ]
    },
    {
      "cell_type": "code",
      "metadata": {
        "colab": {
          "base_uri": "https://localhost:8080/"
        },
        "id": "3UlI-OxB7oG6",
        "outputId": "8747a45b-5e9b-47a7-d55b-427f8a24f7df"
      },
      "source": [
        "#  using update() with a tuple\n",
        "my_set = {10,20}\n",
        "my_tup = (\"apple\", \"papaya\")\n",
        "my_set.update(my_tup)\n",
        "my_set\n"
      ],
      "execution_count": null,
      "outputs": [
        {
          "output_type": "execute_result",
          "data": {
            "text/plain": [
              "{10, 20, 'apple', 'papaya'}"
            ]
          },
          "metadata": {
            "tags": []
          },
          "execution_count": 84
        }
      ]
    },
    {
      "cell_type": "markdown",
      "metadata": {
        "id": "wu4Sxxcl8FCw"
      },
      "source": [
        "**10 Python Dictionary**\n",
        "<br>\n",
        " A dictionary consists of a collection of key-value pairs. Each key-value pair maps the key to its associated value.\n",
        " <br>You can define a dictionary by enclosing a comma-separated list of key-value pairs in curly braces ({}). A colon (:) separates each key from its associated value:\n",
        " <br>\n",
        " Python dictionaries:\n",
        "*  are ordered (have indexes) [in Python 3.7 and later]\n",
        "*  are mutable (items can be added, updated, and deleted)\n",
        "*  do not allow duplicate keys\n",
        "\n"
      ]
    },
    {
      "cell_type": "code",
      "metadata": {
        "colab": {
          "base_uri": "https://localhost:8080/"
        },
        "id": "LiXfM9L_9tTp",
        "outputId": "455da047-a88f-473e-c6cd-033bd6c7c272"
      },
      "source": [
        " # Example\n",
        "city_pop = {\n",
        "\"Chicago\": 3.5,\n",
        "\"New York\": 7,\n",
        "\"LA\": 6\n",
        "}\n",
        "city_pop"
      ],
      "execution_count": null,
      "outputs": [
        {
          "output_type": "execute_result",
          "data": {
            "text/plain": [
              "{'Chicago': 3.5, 'LA': 6, 'New York': 7}"
            ]
          },
          "metadata": {
            "tags": []
          },
          "execution_count": 85
        }
      ]
    },
    {
      "cell_type": "markdown",
      "metadata": {
        "id": "Ev5Fe74o-AOB"
      },
      "source": [
        "**10.1 Access dictionary items**\n",
        "<br>You can get the value of any key in the dictionary in the following way.<br>\n",
        "**name_of_dict[ key ]**"
      ]
    },
    {
      "cell_type": "code",
      "metadata": {
        "colab": {
          "base_uri": "https://localhost:8080/"
        },
        "id": "i3VsCUFk9tza",
        "outputId": "43c5569a-d666-481a-da16-ce0ab060aed1"
      },
      "source": [
        "# getting the value (population) of \"Chicago\" (key)\n",
        "city_pop[\"Chicago\"]\n"
      ],
      "execution_count": null,
      "outputs": [
        {
          "output_type": "execute_result",
          "data": {
            "text/plain": [
              "3.5"
            ]
          },
          "metadata": {
            "tags": []
          },
          "execution_count": 86
        }
      ]
    },
    {
      "cell_type": "markdown",
      "metadata": {
        "id": "lkTehdsp7mFY"
      },
      "source": [
        "You can also use the get() method to get when  the value of the key provided as argument\n"
      ]
    },
    {
      "cell_type": "code",
      "metadata": {
        "colab": {
          "base_uri": "https://localhost:8080/"
        },
        "id": "w3ud-ZTN-joH",
        "outputId": "acbba01c-7d6b-44ab-c561-3eac5b9e3063"
      },
      "source": [
        "city_pop.get(\"LA\")\n"
      ],
      "execution_count": null,
      "outputs": [
        {
          "output_type": "execute_result",
          "data": {
            "text/plain": [
              "6"
            ]
          },
          "metadata": {
            "tags": []
          },
          "execution_count": 87
        }
      ]
    },
    {
      "cell_type": "markdown",
      "metadata": {
        "id": "yzaxyKwn-rKG"
      },
      "source": [
        "You can use the keys() method when  you need to get a list of all the keys in the dictionary"
      ]
    },
    {
      "cell_type": "code",
      "metadata": {
        "colab": {
          "base_uri": "https://localhost:8080/"
        },
        "id": "2PmnuI7r0fAP",
        "outputId": "8b001a73-1d85-46b7-ae79-28bfc46ea769"
      },
      "source": [
        " city_pop.keys()\n"
      ],
      "execution_count": null,
      "outputs": [
        {
          "output_type": "execute_result",
          "data": {
            "text/plain": [
              "dict_keys(['Chicago', 'New York', 'LA'])"
            ]
          },
          "metadata": {
            "tags": []
          },
          "execution_count": 88
        }
      ]
    },
    {
      "cell_type": "markdown",
      "metadata": {
        "id": "jU4iu-S7_Lck"
      },
      "source": [
        "You can use the values() method when you need to get a list of all the values in the dictionar"
      ]
    },
    {
      "cell_type": "code",
      "metadata": {
        "colab": {
          "base_uri": "https://localhost:8080/"
        },
        "id": "gCgeBSTg_RqW",
        "outputId": "78b48900-7ba6-49e7-84bc-a5f78e4a9ef2"
      },
      "source": [
        "city_pop.values()\n"
      ],
      "execution_count": null,
      "outputs": [
        {
          "output_type": "execute_result",
          "data": {
            "text/plain": [
              "dict_values([3.5, 7, 6])"
            ]
          },
          "metadata": {
            "tags": []
          },
          "execution_count": 89
        }
      ]
    },
    {
      "cell_type": "markdown",
      "metadata": {
        "id": "IRph7F3t_aNv"
      },
      "source": [
        "you can use the items() method.when you access the items \n"
      ]
    },
    {
      "cell_type": "code",
      "metadata": {
        "colab": {
          "base_uri": "https://localhost:8080/"
        },
        "id": "HQTTxXPW_qWY",
        "outputId": "a811e4d6-e204-4df5-b525-427f5b13dea9"
      },
      "source": [
        " # the result will be a list of tuples, each tuple containing a pair of key and,value\n",
        "city_pop.items()\n"
      ],
      "execution_count": null,
      "outputs": [
        {
          "output_type": "execute_result",
          "data": {
            "text/plain": [
              "dict_items([('Chicago', 3.5), ('New York', 7), ('LA', 6)])"
            ]
          },
          "metadata": {
            "tags": []
          },
          "execution_count": 90
        }
      ]
    },
    {
      "cell_type": "markdown",
      "metadata": {
        "id": "w6yzbUW1_1TM"
      },
      "source": [
        "You can check if a particular key exists in a dicionary, by using the in keyword"
      ]
    },
    {
      "cell_type": "code",
      "metadata": {
        "colab": {
          "base_uri": "https://localhost:8080/"
        },
        "id": "KnUrkPNj_2ws",
        "outputId": "b9b8ce8c-14f7-4a6c-d286-d6ed7f955205"
      },
      "source": [
        "\"Chicago\" in city_pop"
      ],
      "execution_count": null,
      "outputs": [
        {
          "output_type": "execute_result",
          "data": {
            "text/plain": [
              "True"
            ]
          },
          "metadata": {
            "tags": []
          },
          "execution_count": 91
        }
      ]
    },
    {
      "cell_type": "code",
      "metadata": {
        "colab": {
          "base_uri": "https://localhost:8080/"
        },
        "id": "hO-5WtF7_8iW",
        "outputId": "750bff5d-4dd8-4187-9fa6-bc4ffc6a1d86"
      },
      "source": [
        "\"San Franscisco\" in city_pop"
      ],
      "execution_count": null,
      "outputs": [
        {
          "output_type": "execute_result",
          "data": {
            "text/plain": [
              "False"
            ]
          },
          "metadata": {
            "tags": []
          },
          "execution_count": 93
        }
      ]
    },
    {
      "cell_type": "markdown",
      "metadata": {
        "id": "FP42UVuVAIgm"
      },
      "source": [
        "**10.2 Change dictionary items**<br>\n",
        "If you want to update the value of a particular key, then you can just assign a new value to the key\n",
        "in the following way"
      ]
    },
    {
      "cell_type": "code",
      "metadata": {
        "colab": {
          "base_uri": "https://localhost:8080/"
        },
        "id": "VGwpC804AVX7",
        "outputId": "20b53851-a047-45ce-ca6a-c5c1bdd07ba0"
      },
      "source": [
        "#  dict[ key ] = new value\n",
        "city_pop[\"LA\"] = 20\n",
        "city_pop"
      ],
      "execution_count": null,
      "outputs": [
        {
          "output_type": "execute_result",
          "data": {
            "text/plain": [
              "{'Chicago': 3.5, 'LA': 20, 'New York': 7}"
            ]
          },
          "metadata": {
            "tags": []
          },
          "execution_count": 94
        }
      ]
    },
    {
      "cell_type": "markdown",
      "metadata": {
        "id": "TI5WyGRGAe6y"
      },
      "source": [
        "You can also update the value of a particular key by using the update() method"
      ]
    },
    {
      "cell_type": "code",
      "metadata": {
        "colab": {
          "base_uri": "https://localhost:8080/"
        },
        "id": "ZvDSGLOjAmyz",
        "outputId": "01fb5b25-c18c-41b6-ab3d-f7ecb836ab40"
      },
      "source": [
        "city_pop.update({ \"Chicago\": 30 })\n",
        "city_pop"
      ],
      "execution_count": null,
      "outputs": [
        {
          "output_type": "execute_result",
          "data": {
            "text/plain": [
              "{'Chicago': 30, 'LA': 20, 'New York': 7}"
            ]
          },
          "metadata": {
            "tags": []
          },
          "execution_count": 95
        }
      ]
    },
    {
      "cell_type": "markdown",
      "metadata": {
        "id": "GEJC0LMrAyvv"
      },
      "source": [
        "**10.3 Add items to dictionary**<br>\n",
        "Adding an item to the dictionary is done by using a new index key and assigning a value to it:\n"
      ]
    },
    {
      "cell_type": "code",
      "metadata": {
        "colab": {
          "base_uri": "https://localhost:8080/"
        },
        "id": "wl1hCjpLBx1G",
        "outputId": "cfc3bd31-af13-40e2-82a1-9d450d92f63e"
      },
      "source": [
        "city_pop[\"Chitwan\"] = 2.5\n",
        "city_pop\n"
      ],
      "execution_count": null,
      "outputs": [
        {
          "output_type": "execute_result",
          "data": {
            "text/plain": [
              "{'Chicago': 30, 'Chitwan': 2.5, 'LA': 20, 'New York': 7}"
            ]
          },
          "metadata": {
            "tags": []
          },
          "execution_count": 96
        }
      ]
    },
    {
      "cell_type": "markdown",
      "metadata": {
        "id": "IF3uNuJCCdWo"
      },
      "source": [
        "The update() method updates the dictionary with the elements from the another dictionary object or from an iterable of key/values pairs."
      ]
    },
    {
      "cell_type": "code",
      "metadata": {
        "colab": {
          "base_uri": "https://localhost:8080/"
        },
        "id": "itQ22PWZCpI9",
        "outputId": "73ee6a05-483e-4840-ad15-202176bfa6b1"
      },
      "source": [
        "city_pop.update({\"Tandi\": 4.7})\n",
        "city_pop"
      ],
      "execution_count": null,
      "outputs": [
        {
          "output_type": "execute_result",
          "data": {
            "text/plain": [
              "{'Chicago': 30, 'Chitwan': 2.5, 'LA': 20, 'New York': 7, 'Tandi': 4.7}"
            ]
          },
          "metadata": {
            "tags": []
          },
          "execution_count": 97
        }
      ]
    },
    {
      "cell_type": "markdown",
      "metadata": {
        "id": "KjBwptzIC4dr"
      },
      "source": [
        "**10.4 Remove items from dictionary**\n",
        "<br>\n",
        "We can remove a particular item in a dictionary by using the pop () method. This method removes an item with the provided key and returns the value.\n"
      ]
    },
    {
      "cell_type": "code",
      "metadata": {
        "colab": {
          "base_uri": "https://localhost:8080/"
        },
        "id": "yCAg61oQDGmT",
        "outputId": "ff6342d7-8192-4307-ea82-3d7f3a0df5a3"
      },
      "source": [
        "city_pop.pop(\"LA\")\n",
        "city_pop"
      ],
      "execution_count": null,
      "outputs": [
        {
          "output_type": "execute_result",
          "data": {
            "text/plain": [
              "{'Chicago': 30, 'Chitwan': 2.5, 'New York': 7, 'Tandi': 4.7}"
            ]
          },
          "metadata": {
            "tags": []
          },
          "execution_count": 98
        }
      ]
    },
    {
      "cell_type": "markdown",
      "metadata": {
        "id": "t7ETFb1ZDPS1"
      },
      "source": [
        "The del keyword can also delete a specified key value pair in the following way"
      ]
    },
    {
      "cell_type": "code",
      "metadata": {
        "colab": {
          "base_uri": "https://localhost:8080/"
        },
        "id": "TrL_nmN1DRHz",
        "outputId": "529c4428-9039-40e4-eb20-c81cfd4a4236"
      },
      "source": [
        "del city_pop[\"Tandi\"]\n",
        "city_pop\n"
      ],
      "execution_count": null,
      "outputs": [
        {
          "output_type": "execute_result",
          "data": {
            "text/plain": [
              "{'Chicago': 30, 'Chitwan': 2.5, 'New York': 7}"
            ]
          },
          "metadata": {
            "tags": []
          },
          "execution_count": 100
        }
      ]
    },
    {
      "cell_type": "markdown",
      "metadata": {
        "id": "-DdtfnqPDdrt"
      },
      "source": [
        "The clear() method deletes all the items in the dictionary.\n"
      ]
    },
    {
      "cell_type": "code",
      "metadata": {
        "colab": {
          "base_uri": "https://localhost:8080/"
        },
        "id": "Dee2ge26Df0j",
        "outputId": "198a4d06-a880-41a0-b868-6ba05853cda8"
      },
      "source": [
        "city_pop.clear()\n",
        "city_pop\n"
      ],
      "execution_count": null,
      "outputs": [
        {
          "output_type": "execute_result",
          "data": {
            "text/plain": [
              "{}"
            ]
          },
          "metadata": {
            "tags": []
          },
          "execution_count": 101
        }
      ]
    },
    {
      "cell_type": "markdown",
      "metadata": {
        "id": "cENyb19-DplE"
      },
      "source": [
        "You can use the del keyword to delete the dictionary itself from memor"
      ]
    },
    {
      "cell_type": "code",
      "metadata": {
        "id": "pwqnCmNfDrZA"
      },
      "source": [
        "del city_pop"
      ],
      "execution_count": null,
      "outputs": []
    },
    {
      "cell_type": "code",
      "metadata": {
        "colab": {
          "base_uri": "https://localhost:8080/",
          "height": 180
        },
        "id": "Sk7yrzmDDzxw",
        "outputId": "5b1427aa-4f09-480b-a369-892eaf9debb4"
      },
      "source": [
        " # city_pop is no longer accessible, as it has already been deleted.\n",
        "city_pop\n"
      ],
      "execution_count": null,
      "outputs": [
        {
          "output_type": "error",
          "ename": "NameError",
          "evalue": "ignored",
          "traceback": [
            "\u001b[0;31m---------------------------------------------------------------------------\u001b[0m",
            "\u001b[0;31mNameError\u001b[0m                                 Traceback (most recent call last)",
            "\u001b[0;32m<ipython-input-103-3e0fcabf68b2>\u001b[0m in \u001b[0;36m<module>\u001b[0;34m()\u001b[0m\n\u001b[1;32m      1\u001b[0m \u001b[0;31m# city_pop is no longer accessible, as it has already been deleted.\u001b[0m\u001b[0;34m\u001b[0m\u001b[0;34m\u001b[0m\u001b[0;34m\u001b[0m\u001b[0m\n\u001b[0;32m----> 2\u001b[0;31m \u001b[0mcity_pop\u001b[0m\u001b[0;34m\u001b[0m\u001b[0;34m\u001b[0m\u001b[0m\n\u001b[0m",
            "\u001b[0;31mNameError\u001b[0m: name 'city_pop' is not defined"
          ]
        }
      ]
    },
    {
      "cell_type": "markdown",
      "metadata": {
        "id": "RDkxO26-LG-u"
      },
      "source": [
        "# **THE END**"
      ]
    }
  ]
}